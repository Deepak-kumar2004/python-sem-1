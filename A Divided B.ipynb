{
 "cells": [
  {
   "cell_type": "markdown",
   "metadata": {},
   "source": [
    "The program is to compute A/B where B could be zero,\n",
    "So we know that if denominator is zero then it is not defined so it will print not defined if B=0"
   ]
  },
  {
   "cell_type": "code",
   "execution_count": null,
   "metadata": {},
   "outputs": [],
   "source": [
    "a=int(input('Enter the first number'))\n",
    "b=int(input('Enter the Second number'))\n",
    "if b==0 :     # Checking if B=0, then it will print - not defined\n",
    "    print(\"not defined\")\n",
    "else:         # computing A/B and Displaying the Result \n",
    "    print(a/b)"
   ]
  }
 ],
 "metadata": {
  "language_info": {
   "name": "python"
  },
  "orig_nbformat": 4
 },
 "nbformat": 4,
 "nbformat_minor": 2
}
