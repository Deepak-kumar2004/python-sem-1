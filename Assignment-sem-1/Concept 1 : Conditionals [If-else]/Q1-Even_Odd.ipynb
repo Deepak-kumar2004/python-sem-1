{
 "cells": [
  {
   "cell_type": "markdown",
   "metadata": {},
   "source": [
    "# Given an integer, check if it is even or odd.\n",
    "    we know that even numbers are multiple of 2.\n",
    "    So, we'll Check the, is given number divisible of 2 or not.\n",
    "    if yes than the number is Even, if not than the number is odd.\n",
    "    and zero is neither Even nor odd.\n",
    "    So, we'll firsty check the given number is zero or not.\n"
   ]
  },
  {
   "cell_type": "code",
   "execution_count": 9,
   "metadata": {},
   "outputs": [
    {
     "name": "stdout",
     "output_type": "stream",
     "text": [
      "Enter number is - 376\n",
      "Given number is even\n"
     ]
    }
   ],
   "source": [
    "num=int(input(\"Enter the integer\"))\n",
    "print(\"Enter number is -\",num)\n",
    "if num==0:                                                      \n",
    "    print(\"Given number is Zero\")\n",
    "elif num%2==0:\n",
    "    print(\"Given number is even\")\n",
    "else:\n",
    "    print(\"Given number is odd\")"
   ]
  },
  {
   "cell_type": "code",
   "execution_count": null,
   "metadata": {},
   "outputs": [],
   "source": []
  }
 ],
 "metadata": {
  "kernelspec": {
   "display_name": "Python 3",
   "language": "python",
   "name": "python3"
  },
  "language_info": {
   "codemirror_mode": {
    "name": "ipython",
    "version": 3
   },
   "file_extension": ".py",
   "mimetype": "text/x-python",
   "name": "python",
   "nbconvert_exporter": "python",
   "pygments_lexer": "ipython3",
   "version": "3.9.2"
  }
 },
 "nbformat": 4,
 "nbformat_minor": 2
}
