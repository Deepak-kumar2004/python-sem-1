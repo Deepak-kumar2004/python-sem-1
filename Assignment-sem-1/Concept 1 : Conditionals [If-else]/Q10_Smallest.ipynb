{
 "cells": [
  {
   "cell_type": "markdown",
   "metadata": {},
   "source": [
    "**Given three integers, find the smallest one.**"
   ]
  },
  {
   "cell_type": "code",
   "execution_count": 6,
   "metadata": {},
   "outputs": [
    {
     "name": "stdout",
     "output_type": "stream",
     "text": [
      "Samllest: 4\n"
     ]
    }
   ],
   "source": [
    "num1=int(input(\"Enter first number\"))\n",
    "num2=int(input(\"Enter second number\"))\n",
    "num3=int(input(\"Enter third number\"))\n",
    "\n",
    "# Checking wheather all are equall or not\n",
    "\n",
    "if num1==num2==num3:\n",
    "    print(\"All are equall\")\n",
    "\n",
    "# If above fail then checking num1 less than equall to num2\n",
    "elif num1<=num2:\n",
    "\n",
    "    # num1 <= num2, now checking does num1 also less than or equall to num3,if yes then num1 is samllest.\n",
    "    if num1<=num3:\n",
    "        print(\"Samllest:\",num1)\n",
    "\n",
    "    # num3 is less than num1 and num1 is less than equall to num2 that mean num3 is samllest.\n",
    "    else:\n",
    "        print(\"Samllest:\",num3)\n",
    "\n",
    "# num2 is less than equall num1\n",
    "else:\n",
    "\n",
    "    # now checking does num2 is less than equall than num3. if yes then num2 is smallest\n",
    "    if num2<=num3:\n",
    "        print(\"Smallest:\",num2)\n",
    "\n",
    "    # num3 is less than num2 it means num3 is samllest.\n",
    "    else:\n",
    "        print(\"Samllest:\",num3)\n",
    "    "
   ]
  },
  {
   "cell_type": "code",
   "execution_count": null,
   "metadata": {},
   "outputs": [],
   "source": []
  },
  {
   "cell_type": "code",
   "execution_count": null,
   "metadata": {},
   "outputs": [],
   "source": []
  }
 ],
 "metadata": {
  "kernelspec": {
   "display_name": "Python 3",
   "language": "python",
   "name": "python3"
  },
  "language_info": {
   "codemirror_mode": {
    "name": "ipython",
    "version": 3
   },
   "file_extension": ".py",
   "mimetype": "text/x-python",
   "name": "python",
   "nbconvert_exporter": "python",
   "pygments_lexer": "ipython3",
   "version": "3.9.2"
  }
 },
 "nbformat": 4,
 "nbformat_minor": 2
}
