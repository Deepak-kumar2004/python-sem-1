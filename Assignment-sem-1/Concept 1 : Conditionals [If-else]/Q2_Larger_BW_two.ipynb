{
 "cells": [
  {
   "cell_type": "markdown",
   "metadata": {},
   "source": [
    "# Given two integers, find the larger one.\n",
    "    We'll compare both number to each other using comparision operator (<,>,==).\n",
    "    and will also check, does the number equall or not. "
   ]
  },
  {
   "cell_type": "code",
   "execution_count": 3,
   "metadata": {},
   "outputs": [
    {
     "name": "stdout",
     "output_type": "stream",
     "text": [
      "56 67\n",
      "number 67 Is greater than number 56\n"
     ]
    }
   ],
   "source": [
    "num1=int(input(\"Enter the first Number\"))\n",
    "num2=int(input(\"Enter the Second Number\"))\n",
    "print(num1,num2)\n",
    "if num1==num2:\n",
    "    print(\"Both Numbers are equall\")\n",
    "elif num1>num2:\n",
    "    print(\"number\",num1,\"Is greater than number\",num2)\n",
    "else:\n",
    "    print(\"number\",num2,\"Is greater than number\",num1)\n"
   ]
  },
  {
   "cell_type": "code",
   "execution_count": null,
   "metadata": {},
   "outputs": [],
   "source": []
  }
 ],
 "metadata": {
  "kernelspec": {
   "display_name": "Python 3",
   "language": "python",
   "name": "python3"
  },
  "language_info": {
   "codemirror_mode": {
    "name": "ipython",
    "version": 3
   },
   "file_extension": ".py",
   "mimetype": "text/x-python",
   "name": "python",
   "nbconvert_exporter": "python",
   "pygments_lexer": "ipython3",
   "version": "3.9.2"
  }
 },
 "nbformat": 4,
 "nbformat_minor": 2
}
