{
 "cells": [
  {
   "cell_type": "markdown",
   "metadata": {},
   "source": [
    "**Given a temperature in Celsius, convert it to Fahrenheit using the formula F = (C * 1.8) + 32. If the temperature is above 90°F, print “It’s hot outside!” otherwise, print “The temperature is pleasant”.**\n",
    "    "
   ]
  },
  {
   "cell_type": "code",
   "execution_count": 1,
   "metadata": {},
   "outputs": [
    {
     "name": "stdout",
     "output_type": "stream",
     "text": [
      "The temperature is pleasant\n"
     ]
    }
   ],
   "source": [
    "# Taking temp in celsius as input\n",
    "Temp_in_celsius=float(input(\"Enter the temp. in degree celsius\"))\n",
    "\n",
    "# Computing the temp in fahrenheit\n",
    "Temp_in_Fahrenheit=(Temp_in_celsius*1.8)+32\n",
    "\n",
    "# checking the obove given condition, temp in fahrenheit obove 90 or not\n",
    "if Temp_in_Fahrenheit>90:\n",
    "    print(\"It's hot outside\")\n",
    "else:\n",
    "    print(\"The temperature is pleasant\")"
   ]
  },
  {
   "cell_type": "code",
   "execution_count": null,
   "metadata": {},
   "outputs": [],
   "source": []
  }
 ],
 "metadata": {
  "kernelspec": {
   "display_name": "Python 3",
   "language": "python",
   "name": "python3"
  },
  "language_info": {
   "codemirror_mode": {
    "name": "ipython",
    "version": 3
   },
   "file_extension": ".py",
   "mimetype": "text/x-python",
   "name": "python",
   "nbconvert_exporter": "python",
   "pygments_lexer": "ipython3",
   "version": "3.9.2"
  }
 },
 "nbformat": 4,
 "nbformat_minor": 2
}
