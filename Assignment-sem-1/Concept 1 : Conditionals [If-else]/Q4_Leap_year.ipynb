{
 "cells": [
  {
   "cell_type": "markdown",
   "metadata": {},
   "source": [
    "**Given a year, check if it is a leap year or not. A leap year is divisible by 4, except for years that are divisible by 100. However, years that are divisible by 400 are also leap years.**"
   ]
  },
  {
   "cell_type": "code",
   "execution_count": 1,
   "metadata": {},
   "outputs": [],
   "source": [
    "# Taking the year in integer beacuse year can not be any real number.\n",
    "def leap_year(year):\n",
    "\n",
    "    # checking the given year is divible 4, and not divisible by 100\n",
    "    # if both condition are true then the year is leap year,\n",
    "    if year%4==0 and year%100!=0:\n",
    "        print(year, \"is a leap year\")\n",
    "\n",
    "    # if above condition fails then, checking year is divisible by 400 or not \n",
    "    # if Yes, GIven Year is leap year,\n",
    "    elif year%400==0:\n",
    "        print(year, \"is a leap year\")\n",
    "\n",
    "    # if year is false on both above condition then the year is not leap.\n",
    "    else:\n",
    "        print(year, \"is not a leap year\")"
   ]
  },
  {
   "cell_type": "code",
   "execution_count": 2,
   "metadata": {},
   "outputs": [
    {
     "name": "stdout",
     "output_type": "stream",
     "text": [
      "3892 is a leap year\n"
     ]
    }
   ],
   "source": [
    "leap_year(3892)"
   ]
  },
  {
   "cell_type": "code",
   "execution_count": 3,
   "metadata": {},
   "outputs": [
    {
     "name": "stdout",
     "output_type": "stream",
     "text": [
      "1999 is not a leap year\n"
     ]
    }
   ],
   "source": [
    "leap_year(1999)"
   ]
  },
  {
   "cell_type": "code",
   "execution_count": 4,
   "metadata": {},
   "outputs": [
    {
     "name": "stdout",
     "output_type": "stream",
     "text": [
      "1900 is not a leap year\n"
     ]
    }
   ],
   "source": [
    "leap_year(1900)"
   ]
  },
  {
   "cell_type": "code",
   "execution_count": null,
   "metadata": {},
   "outputs": [],
   "source": []
  }
 ],
 "metadata": {
  "kernelspec": {
   "display_name": "Python 3",
   "language": "python",
   "name": "python3"
  },
  "language_info": {
   "codemirror_mode": {
    "name": "ipython",
    "version": 3
   },
   "file_extension": ".py",
   "mimetype": "text/x-python",
   "name": "python",
   "nbconvert_exporter": "python",
   "pygments_lexer": "ipython3",
   "version": "3.9.2"
  }
 },
 "nbformat": 4,
 "nbformat_minor": 2
}
