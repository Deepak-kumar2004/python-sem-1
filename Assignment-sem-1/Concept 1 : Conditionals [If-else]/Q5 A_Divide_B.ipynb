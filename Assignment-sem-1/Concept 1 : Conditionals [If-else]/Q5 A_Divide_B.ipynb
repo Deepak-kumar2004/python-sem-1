{
 "cells": [
  {
   "cell_type": "markdown",
   "metadata": {},
   "source": [
    "# Given two numbers a and b, find a/b (b could be zero)\n",
    "    We'll Divide First number by Second\n",
    "    but firsty we'll check the second number,if it will be zero and the division is not defined."
   ]
  },
  {
   "cell_type": "code",
   "execution_count": 1,
   "metadata": {},
   "outputs": [
    {
     "name": "stdout",
     "output_type": "stream",
     "text": [
      "0.7528089887640449\n"
     ]
    }
   ],
   "source": [
    "num1 = int(input(\"enter the number\"))\n",
    "num2 = int(input(\"enter the number\"))\n",
    "# checking the second number \n",
    "if num2 == 0:\n",
    "    # second number 2 zero that why divion is not defined\n",
    "    print(\"division with 0 is not defined\")\n",
    "else:\n",
    "    # computing the A/B\n",
    "    print(num1/num2)\n",
    "    \n"
   ]
  }
 ],
 "metadata": {
  "kernelspec": {
   "display_name": "Python 3",
   "language": "python",
   "name": "python3"
  },
  "language_info": {
   "codemirror_mode": {
    "name": "ipython",
    "version": 3
   },
   "file_extension": ".py",
   "mimetype": "text/x-python",
   "name": "python",
   "nbconvert_exporter": "python",
   "pygments_lexer": "ipython3",
   "version": "3.9.2"
  }
 },
 "nbformat": 4,
 "nbformat_minor": 2
}
