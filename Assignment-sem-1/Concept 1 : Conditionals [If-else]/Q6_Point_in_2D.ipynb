{
 "cells": [
  {
   "cell_type": "markdown",
   "metadata": {},
   "source": [
    "**Given a point (x1, y1), find the quadrant in which this point lies.**\n",
    "    "
   ]
  },
  {
   "cell_type": "code",
   "execution_count": 1,
   "metadata": {},
   "outputs": [
    {
     "name": "stdout",
     "output_type": "stream",
     "text": [
      "4.0 -3.0\n",
      "The point is in Fourth Quadrant\n"
     ]
    }
   ],
   "source": [
    "# Taking the X and Y as input \n",
    "x=float(input(\"Enter the X co-ordinate\"))\n",
    "y=float(input(\"Enter the Y co-ordinate\"))\n",
    "\n",
    "print(x,y)\n",
    "\n",
    "# Checking, if Both co-ordinate are Zero then the point is Origin itself\n",
    "if x==0 and y==0:\n",
    "    print(\"The given point is the origin\")\n",
    "\n",
    "# Checking, if Both co-ordinate are positive then the point are in the First Quadrant\n",
    "elif x>0 and y>0:\n",
    "    print(\"The point is in First Quadrant\")\n",
    "\n",
    "# Checking, if X co-cordinate is neagtive and Y is positive, then the point are in the Second Quadrant\n",
    "elif x<0 and y>0:\n",
    "    print(\"The point is in Second Quadrant\")\n",
    "\n",
    "# Checking, if the both co-ordinate are negative, then the point are in the third Quadrant\n",
    "elif x<0 and y<0:\n",
    "    print(\"The point is in Third Quadrant\")\n",
    "\n",
    "# Checking, if X co-cordinate is positive and Y is negative, then the point are in the Fourth Quadrant\n",
    "elif x>0 and y<0:\n",
    "    print(\"The point is in Fourth Quadrant\")\n",
    "\n",
    "\n",
    "\n"
   ]
  },
  {
   "cell_type": "code",
   "execution_count": null,
   "metadata": {},
   "outputs": [],
   "source": []
  }
 ],
 "metadata": {
  "kernelspec": {
   "display_name": "Python 3",
   "language": "python",
   "name": "python3"
  },
  "language_info": {
   "codemirror_mode": {
    "name": "ipython",
    "version": 3
   },
   "file_extension": ".py",
   "mimetype": "text/x-python",
   "name": "python",
   "nbconvert_exporter": "python",
   "pygments_lexer": "ipython3",
   "version": "3.9.2"
  }
 },
 "nbformat": 4,
 "nbformat_minor": 2
}
