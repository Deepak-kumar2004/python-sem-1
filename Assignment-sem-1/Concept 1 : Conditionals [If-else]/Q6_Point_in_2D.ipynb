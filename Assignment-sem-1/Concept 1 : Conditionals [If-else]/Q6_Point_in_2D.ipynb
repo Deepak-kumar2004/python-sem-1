{
 "cells": [
  {
   "cell_type": "markdown",
   "metadata": {},
   "source": [
    "**Given a point (x1, y1), find the quadrant in which this point lies.**\n",
    "    "
   ]
  },
  {
   "cell_type": "code",
   "execution_count": 3,
   "metadata": {},
   "outputs": [],
   "source": [
    "def quadrant(x,y):\n",
    "\n",
    "    # Checking, if Both co-ordinate are Zero then the point is Origin itself\n",
    "    if x==0 and y==0:\n",
    "        print(\"The given point is the origin\")\n",
    "    \n",
    "    # checking, if the point on the axis\n",
    "    elif x==0:\n",
    "        print(\"The point is on Y-axis\")\n",
    "\n",
    "    elif y==0:\n",
    "        print(\"The point is on the X-axis\")\n",
    "\n",
    "    # Checking, if Both co-ordinate are positive then the point are in the First Quadrant\n",
    "    elif x>0 and y>0:\n",
    "        print(\"The point is in First Quadrant\")\n",
    "\n",
    "    # Checking, if X co-cordinate is neagtive and Y is positive, then the point are in the Second Quadrant\n",
    "    elif x<0 and y>0:\n",
    "        print(\"The point is in Second Quadrant\")\n",
    "\n",
    "    # Checking, if the both co-ordinate are negative, then the point are in the third Quadrant\n",
    "    elif x<0 and y<0:\n",
    "        print(\"The point is in Third Quadrant\")\n",
    "\n",
    "    # Checking, if X co-cordinate is positive and Y is negative, then the point are in the Fourth Quadrant\n",
    "    elif x>0 and y<0:\n",
    "        print(\"The point is in Fourth Quadrant\")\n",
    "\n",
    "\n",
    "\n"
   ]
  },
  {
   "cell_type": "code",
   "execution_count": 4,
   "metadata": {},
   "outputs": [
    {
     "name": "stdout",
     "output_type": "stream",
     "text": [
      "The point is on Y-axis\n"
     ]
    }
   ],
   "source": [
    "quadrant(0,1)"
   ]
  },
  {
   "cell_type": "code",
   "execution_count": 5,
   "metadata": {},
   "outputs": [
    {
     "name": "stdout",
     "output_type": "stream",
     "text": [
      "The point is on the X-axis\n"
     ]
    }
   ],
   "source": [
    "quadrant(1,0)"
   ]
  },
  {
   "cell_type": "code",
   "execution_count": 6,
   "metadata": {},
   "outputs": [
    {
     "name": "stdout",
     "output_type": "stream",
     "text": [
      "The given point is the origin\n"
     ]
    }
   ],
   "source": [
    "quadrant(0,0)"
   ]
  },
  {
   "cell_type": "code",
   "execution_count": 7,
   "metadata": {},
   "outputs": [
    {
     "name": "stdout",
     "output_type": "stream",
     "text": [
      "The point is in First Quadrant\n"
     ]
    }
   ],
   "source": [
    "quadrant(2,9)"
   ]
  },
  {
   "cell_type": "code",
   "execution_count": 8,
   "metadata": {},
   "outputs": [
    {
     "name": "stdout",
     "output_type": "stream",
     "text": [
      "The point is in Second Quadrant\n"
     ]
    }
   ],
   "source": [
    "quadrant(-4,8)"
   ]
  },
  {
   "cell_type": "code",
   "execution_count": 9,
   "metadata": {},
   "outputs": [
    {
     "name": "stdout",
     "output_type": "stream",
     "text": [
      "The point is in Third Quadrant\n"
     ]
    }
   ],
   "source": [
    "quadrant(-98,-2)"
   ]
  },
  {
   "cell_type": "code",
   "execution_count": 10,
   "metadata": {},
   "outputs": [
    {
     "name": "stdout",
     "output_type": "stream",
     "text": [
      "The point is in Fourth Quadrant\n"
     ]
    }
   ],
   "source": [
    "quadrant(9,-2)"
   ]
  },
  {
   "cell_type": "code",
   "execution_count": null,
   "metadata": {},
   "outputs": [],
   "source": []
  }
 ],
 "metadata": {
  "kernelspec": {
   "display_name": "Python 3",
   "language": "python",
   "name": "python3"
  },
  "language_info": {
   "codemirror_mode": {
    "name": "ipython",
    "version": 3
   },
   "file_extension": ".py",
   "mimetype": "text/x-python",
   "name": "python",
   "nbconvert_exporter": "python",
   "pygments_lexer": "ipython3",
   "version": "3.9.2"
  }
 },
 "nbformat": 4,
 "nbformat_minor": 2
}
