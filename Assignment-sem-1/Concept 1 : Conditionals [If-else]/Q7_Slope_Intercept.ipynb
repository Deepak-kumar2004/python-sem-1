{
 "cells": [
  {
   "cell_type": "markdown",
   "metadata": {},
   "source": [
    "**Given two points (x1, y1) and (x2, y2), find the slope and intercept of the line joining these two points (the line may be perfectly horizontal or vertical).**\n",
    "    \n",
    "    formula for computing the slope is : (y2-y1)/(x2-x1)\n",
    "    formula for computing the slope is : (y1-Slope*x1)\n",
    "    if x2-x1=0 then the slope and intercept is not defined as line pasing through the given point is parrallel to Y-Axis.\n",
    "    if y2-y2==0 then the slope is zero, both point y co-ordinate are same, intercept is also equall to them\n",
    "\n"
   ]
  },
  {
   "cell_type": "code",
   "execution_count": 1,
   "metadata": {},
   "outputs": [],
   "source": [
    "def slope_intercept(x1,y1,x2,y2):\n",
    "    # checking first, does (x2-x1)=0 \n",
    "    if (x2-x1)==0:\n",
    "        print(\"Slope and intercept is not defined\")\n",
    "\n",
    "    # checking, does (x2-x1)==0\n",
    "    elif (y2-y1)==0:\n",
    "        print(\"Slope is zero & Intercept-\",y1)\n",
    "\n",
    "    # else computing the slope and the intercept\n",
    "    else:\n",
    "        m=(y2-y1)/(x2-x1)\n",
    "        print(\"slope is- \",m)\n",
    "        print(\"Intercept is - \",y1-m*x1)"
   ]
  },
  {
   "cell_type": "code",
   "execution_count": 2,
   "metadata": {},
   "outputs": [
    {
     "name": "stdout",
     "output_type": "stream",
     "text": [
      "slope is-  -0.6666666666666666\n",
      "Intercept is -  4.333333333333333\n"
     ]
    }
   ],
   "source": [
    "slope_intercept(2,3,5,1)"
   ]
  },
  {
   "cell_type": "code",
   "execution_count": 3,
   "metadata": {},
   "outputs": [
    {
     "name": "stdout",
     "output_type": "stream",
     "text": [
      "Slope and intercept is not defined\n"
     ]
    }
   ],
   "source": [
    "slope_intercept(2,6,2,9)"
   ]
  },
  {
   "cell_type": "code",
   "execution_count": 4,
   "metadata": {},
   "outputs": [
    {
     "name": "stdout",
     "output_type": "stream",
     "text": [
      "Slope is zero & Intercept- 5\n"
     ]
    }
   ],
   "source": [
    "slope_intercept(9,5,2,5)"
   ]
  },
  {
   "cell_type": "code",
   "execution_count": null,
   "metadata": {},
   "outputs": [],
   "source": []
  }
 ],
 "metadata": {
  "kernelspec": {
   "display_name": "Python 3",
   "language": "python",
   "name": "python3"
  },
  "language_info": {
   "codemirror_mode": {
    "name": "ipython",
    "version": 3
   },
   "file_extension": ".py",
   "mimetype": "text/x-python",
   "name": "python",
   "nbconvert_exporter": "python",
   "pygments_lexer": "ipython3",
   "version": "3.9.2"
  }
 },
 "nbformat": 4,
 "nbformat_minor": 2
}
