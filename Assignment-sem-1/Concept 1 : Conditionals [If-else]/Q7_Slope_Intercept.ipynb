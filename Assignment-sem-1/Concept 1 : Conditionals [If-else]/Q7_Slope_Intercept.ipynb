{
 "cells": [
  {
   "cell_type": "markdown",
   "metadata": {},
   "source": [
    "**Given two points (x1, y1) and (x2, y2), find the slope and intercept of the line joining these two points (the line may be perfectly horizontal or vertical).**\n",
    "    \n",
    "    formula for computing the slope is : (y2-y1)/(x2-x1)\n",
    "    formula for computing the slope is : (y1-Slope*x1)\n",
    "    if x2-x1=0 then the slope and intercept is not defined as line pasing through the given point is parrallel to Y-Axis.\n",
    "    if y2-y2==0 then the slope is zero, both point y co-ordinate are same, intercept is also equall to them\n",
    "\n"
   ]
  },
  {
   "cell_type": "code",
   "execution_count": 3,
   "metadata": {},
   "outputs": [
    {
     "name": "stdout",
     "output_type": "stream",
     "text": [
      "4.0 6.0 2.0 7.0\n",
      "slope is-  -0.5\n",
      "Intercept is -  8.0\n"
     ]
    }
   ],
   "source": [
    "# Taking co-ordinate as input\n",
    "x1=float(input(\"Enter the X1 co-ordinate\"))\n",
    "y1=float(input(\"Enter the Y1 co-ordinate\"))\n",
    "x2=float(input(\"Enter the X2 co-ordinate\"))\n",
    "y2=float(input(\"Enter the Y2 co-ordinate\"))\n",
    "print(x1,y1,x2,y2)\n",
    "\n",
    "# checking first, does (x2-x1)=0 \n",
    "if (x2-x1)==0:\n",
    "    print(\"Slope and intercept is not defined\")\n",
    "\n",
    "# checking, does (x2-x1)==0\n",
    "elif (y2-y1)==0:\n",
    "    print(\"Slope is zero & Intercept-\",y1)\n",
    "\n",
    "# else computing the slope and the intercept\n",
    "else:\n",
    "    m=(y2-y1)/(x2-x1)\n",
    "    print(\"slope is- \",m)\n",
    "    print(\"Intercept is - \",y1-m*x1)"
   ]
  },
  {
   "cell_type": "code",
   "execution_count": null,
   "metadata": {},
   "outputs": [],
   "source": []
  }
 ],
 "metadata": {
  "kernelspec": {
   "display_name": "Python 3",
   "language": "python",
   "name": "python3"
  },
  "language_info": {
   "codemirror_mode": {
    "name": "ipython",
    "version": 3
   },
   "file_extension": ".py",
   "mimetype": "text/x-python",
   "name": "python",
   "nbconvert_exporter": "python",
   "pygments_lexer": "ipython3",
   "version": "3.9.2"
  }
 },
 "nbformat": 4,
 "nbformat_minor": 2
}
