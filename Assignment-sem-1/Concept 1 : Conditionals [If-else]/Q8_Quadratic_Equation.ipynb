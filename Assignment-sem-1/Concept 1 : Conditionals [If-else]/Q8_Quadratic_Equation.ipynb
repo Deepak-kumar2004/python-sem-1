{
 "cells": [
  {
   "cell_type": "markdown",
   "metadata": {},
   "source": [
    "**Given a quadratic equation with coefficients a, b and c, find the two solutions (may be real or complex). You should not take the square root of a negative number in your code.**\n"
   ]
  },
  {
   "cell_type": "code",
   "execution_count": 7,
   "metadata": {},
   "outputs": [],
   "source": [
    "def quad_equ(a,b,c):\n",
    "    # Calculating Discriminant,\n",
    "    d= ((b**2)-(4*a*c))\n",
    "    print(d)\n",
    "\n",
    "    # checking if D is geater than or equall to zero,or not, if yes then their exist real Soln:\n",
    "    if d>=0:\n",
    "\n",
    "        # calculating the root using quadratic formula\n",
    "        r1=(-b+(d**0.5))/(2*a)\n",
    "        r2=(-b-(d**0.5))/(2*a)\n",
    "        print(r1)\n",
    "        print(r2)\n",
    "\n",
    "    # if above condition fails mean D is less than zero, and their exist imagerinary roots of given equation\n",
    "\n",
    "    else:\n",
    "\n",
    "        # We are not allow to take square root of a negative number as our D is negative.\n",
    "        # Now we are calcuating its real and imagenery part of root separetely. \n",
    "        print(str(-b/(2*a))+\"+\"+str((((-1)*d)**0.5)/(2*a))+\"i\")\n",
    "        print(str(-b/(2*a))+\"-\"+str((((-1)*d)**0.5)/(2*a))+\"i\")\n"
   ]
  },
  {
   "cell_type": "markdown",
   "metadata": {},
   "source": []
  },
  {
   "cell_type": "code",
   "execution_count": 8,
   "metadata": {},
   "outputs": [
    {
     "name": "stdout",
     "output_type": "stream",
     "text": [
      "65\n",
      "-0.23443556292536272\n",
      "-4.265564437074637\n"
     ]
    }
   ],
   "source": [
    "quad_equ(2,9,2)"
   ]
  },
  {
   "cell_type": "code",
   "execution_count": 9,
   "metadata": {},
   "outputs": [
    {
     "name": "stdout",
     "output_type": "stream",
     "text": [
      "-8\n",
      "-1.0+0.7071067811865476i\n",
      "-1.0-0.7071067811865476i\n"
     ]
    }
   ],
   "source": [
    "quad_equ(2,4,3)"
   ]
  },
  {
   "cell_type": "code",
   "execution_count": 10,
   "metadata": {},
   "outputs": [
    {
     "name": "stdout",
     "output_type": "stream",
     "text": [
      "0\n",
      "-1.0\n",
      "-1.0\n"
     ]
    }
   ],
   "source": [
    "quad_equ(2,4,2)"
   ]
  },
  {
   "cell_type": "code",
   "execution_count": 11,
   "metadata": {},
   "outputs": [
    {
     "name": "stdout",
     "output_type": "stream",
     "text": [
      "-3\n",
      "-0.5+0.8660254037844386i\n",
      "-0.5-0.8660254037844386i\n"
     ]
    }
   ],
   "source": [
    "quad_equ(1,1,1)"
   ]
  },
  {
   "cell_type": "code",
   "execution_count": null,
   "metadata": {},
   "outputs": [],
   "source": []
  }
 ],
 "metadata": {
  "kernelspec": {
   "display_name": "Python 3",
   "language": "python",
   "name": "python3"
  },
  "language_info": {
   "codemirror_mode": {
    "name": "ipython",
    "version": 3
   },
   "file_extension": ".py",
   "mimetype": "text/x-python",
   "name": "python",
   "nbconvert_exporter": "python",
   "pygments_lexer": "ipython3",
   "version": "3.9.2"
  }
 },
 "nbformat": 4,
 "nbformat_minor": 2
}
