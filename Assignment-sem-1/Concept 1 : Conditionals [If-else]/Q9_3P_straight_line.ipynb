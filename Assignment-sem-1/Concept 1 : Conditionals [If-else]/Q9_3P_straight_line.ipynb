{
 "cells": [
  {
   "cell_type": "markdown",
   "metadata": {},
   "source": [
    "**Given three points, find out whether they lie on the same straight line or not.**"
   ]
  },
  {
   "cell_type": "code",
   "execution_count": 2,
   "metadata": {},
   "outputs": [
    {
     "name": "stdout",
     "output_type": "stream",
     "text": [
      "Not lies in the straight line\n"
     ]
    }
   ],
   "source": [
    "# Taking the Co-ordinate of point using input func.\n",
    "\n",
    "\n",
    "x1=float(input(\"enter the Co-ordinate of x1\"))\n",
    "y1=float(input(\"enter the Co-ordinate of y1\"))\n",
    "x2=float(input(\"enter the Co-ordinate of x2\"))\n",
    "y2=float(input(\"enter the Co-ordinate of y2\"))\n",
    "x3=float(input(\"enter the Co-ordinate of x3\"))\n",
    "y3=float(input(\"enter the Co-ordinate of y3\"))\n",
    "\n",
    "\n",
    "# Checking if x1,x2 and x3 are equall that's mean point lies in same line\n",
    "if x1==x2==x3:\n",
    "    print(\"Given point are in Straight line\")\n",
    "\n",
    "\n",
    "# checking if two of them are equall and one is not equall, than the point are not colinear \n",
    "elif x1==x2!=x3 or x1==x3!=x2 or x2==x3!=x1:\n",
    "    print(\"Not lies in the straight line\")\n",
    "\n",
    "# Now above condition fails means, all x co-ordinate are not equall.\n",
    "# under else calculating the slopes of line joining two point,\n",
    "# calculating slope first using point-1 and point-2 than point-3 and point-2\n",
    "else:\n",
    "\n",
    "    Slope1=(y2-y1)/(x2-x1)\n",
    "    Slope2=(y3-y2)/(x3-x2)\n",
    "    \n",
    "    # comparing the slopes, if both are equall than point are colinear\n",
    "    if Slope1==Slope2:\n",
    "        print(\"Point are colinear\")\n",
    "\n",
    "    # slopes are not equall, line are not colinear.\n",
    "    else:\n",
    "        print(\"Not lies in the straight line\")\n",
    "\n"
   ]
  },
  {
   "cell_type": "code",
   "execution_count": null,
   "metadata": {},
   "outputs": [],
   "source": []
  }
 ],
 "metadata": {
  "kernelspec": {
   "display_name": "Python 3",
   "language": "python",
   "name": "python3"
  },
  "language_info": {
   "codemirror_mode": {
    "name": "ipython",
    "version": 3
   },
   "file_extension": ".py",
   "mimetype": "text/x-python",
   "name": "python",
   "nbconvert_exporter": "python",
   "pygments_lexer": "ipython3",
   "version": "3.9.2"
  }
 },
 "nbformat": 4,
 "nbformat_minor": 2
}
