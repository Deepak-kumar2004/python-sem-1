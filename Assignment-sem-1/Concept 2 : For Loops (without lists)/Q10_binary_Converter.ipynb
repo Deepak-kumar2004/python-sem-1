{
 "cells": [
  {
   "cell_type": "markdown",
   "metadata": {},
   "source": [
    "***Given a positive integer, convert it into binary, and vice-versa.***"
   ]
  },
  {
   "cell_type": "code",
   "execution_count": 14,
   "metadata": {},
   "outputs": [],
   "source": [
    "def decimal_binary(num):\n",
    "\n",
    "# checking the num is greater than zero or not.\n",
    "    if num > 0:\n",
    "\n",
    "\n",
    "        binary = \"\"  # we'll store the binary expression in it.\n",
    "\n",
    "        # running the while Ture untill num get zero.\n",
    "        while num > 0:\n",
    "\n",
    "            # Computing the remainder\n",
    "            r = num % 2\n",
    "\n",
    "            # adding the remainder in starting of binary string.\n",
    "            binary = str(r) + binary\n",
    "\n",
    "            num=num//2  # deceasing num by divide by 2 and storing only integer part.\n",
    "\n",
    "        return binary  # return binary \n",
    "\n",
    "\n",
    "def binary_decimal(binary):\n",
    "\n",
    "    decimal=0  # we'll store the decimal expression in it.\n",
    "\n",
    "    binary=str(binary)  # converting decimal into string.\n",
    "\n",
    "    binary=binary[::-1] # reversing the sstring.\n",
    "\n",
    "    for i in range(len(binary)): # Itrating over len of string.\n",
    "\n",
    "        if binary[i]==\"1\": # if the character is \"1\" \n",
    "            decimal+=2**i  # adding the 2 raise to the power i{i is the position value} to decimal.\n",
    "\n",
    "    return decimal # returning the decimal\n"
   ]
  },
  {
   "cell_type": "code",
   "execution_count": 15,
   "metadata": {},
   "outputs": [
    {
     "data": {
      "text/plain": [
       "'1'"
      ]
     },
     "execution_count": 15,
     "metadata": {},
     "output_type": "execute_result"
    }
   ],
   "source": [
    "decimal_binary(1)"
   ]
  },
  {
   "cell_type": "code",
   "execution_count": 16,
   "metadata": {},
   "outputs": [
    {
     "data": {
      "text/plain": [
       "12"
      ]
     },
     "execution_count": 16,
     "metadata": {},
     "output_type": "execute_result"
    }
   ],
   "source": [
    "binary_decimal(1100)"
   ]
  },
  {
   "cell_type": "code",
   "execution_count": null,
   "metadata": {},
   "outputs": [],
   "source": []
  }
 ],
 "metadata": {
  "kernelspec": {
   "display_name": "Python 3",
   "language": "python",
   "name": "python3"
  },
  "language_info": {
   "codemirror_mode": {
    "name": "ipython",
    "version": 3
   },
   "file_extension": ".py",
   "mimetype": "text/x-python",
   "name": "python",
   "nbconvert_exporter": "python",
   "pygments_lexer": "ipython3",
   "version": "3.9.2"
  }
 },
 "nbformat": 4,
 "nbformat_minor": 2
}
