{
 "cells": [
  {
   "cell_type": "markdown",
   "metadata": {},
   "source": [
    "**Given a positive integer, find out if it’s prime or not.**\n",
    "\n",
    "    prime number is the number that is divisible by 1 and itself only.\n",
    "    but we will check from 2 upto the square root of that number, beacuse every one number divisible by 1 and if we find can not able to the any number from 2 to that sqaure root of that number then the number itself will divide the numb only."
   ]
  },
  {
   "cell_type": "code",
   "execution_count": 1,
   "metadata": {},
   "outputs": [],
   "source": [
    "def postv_num_prime(num):\n",
    "\n",
    "    # Checking the input,is integer or not.\n",
    "    if isinstance(num,int):\n",
    "\n",
    "        # checking the input ,if it is positive then proceed next. \n",
    "        if num>1: \n",
    "\n",
    "            prime=True\n",
    "            num_root=int(num**0.5) # calculating sqaure root of input and converting into the integer beacuase, range() work with integer only \n",
    "\n",
    "            for i in range(2,num_root+1):\n",
    "                if num%i==0:      # if number is divisible by any number in the range, prime will be false,return prime\n",
    "                    prime=False\n",
    "                    return prime\n",
    "                \n",
    "            if prime==True:  # if prime is true and returning prime\n",
    "                return prime\n",
    "            \n",
    "        elif num in [0,1]: # checking the input, if it is zero or one then not prime.\n",
    "            return False\n",
    "           \n",
    "        else:\n",
    "            print(\"Your input Negative integer\")\n",
    "    else:\n",
    "        print(\"Your input is not integer\")\n",
    "\n",
    "\n",
    "    "
   ]
  },
  {
   "cell_type": "code",
   "execution_count": 2,
   "metadata": {},
   "outputs": [
    {
     "data": {
      "text/plain": [
       "True"
      ]
     },
     "execution_count": 2,
     "metadata": {},
     "output_type": "execute_result"
    }
   ],
   "source": [
    "postv_num_prime(31)"
   ]
  },
  {
   "cell_type": "code",
   "execution_count": 3,
   "metadata": {},
   "outputs": [
    {
     "name": "stdout",
     "output_type": "stream",
     "text": [
      "Your input Negative integer\n"
     ]
    }
   ],
   "source": [
    "postv_num_prime(-1)"
   ]
  },
  {
   "cell_type": "code",
   "execution_count": 5,
   "metadata": {},
   "outputs": [
    {
     "name": "stdout",
     "output_type": "stream",
     "text": [
      "Your input is not integer\n"
     ]
    }
   ],
   "source": [
    "postv_num_prime([67])"
   ]
  },
  {
   "cell_type": "code",
   "execution_count": 6,
   "metadata": {},
   "outputs": [
    {
     "data": {
      "text/plain": [
       "False"
      ]
     },
     "execution_count": 6,
     "metadata": {},
     "output_type": "execute_result"
    }
   ],
   "source": [
    "postv_num_prime(1)"
   ]
  },
  {
   "cell_type": "code",
   "execution_count": 7,
   "metadata": {},
   "outputs": [
    {
     "data": {
      "text/plain": [
       "False"
      ]
     },
     "execution_count": 7,
     "metadata": {},
     "output_type": "execute_result"
    }
   ],
   "source": [
    "postv_num_prime(18)"
   ]
  },
  {
   "cell_type": "code",
   "execution_count": null,
   "metadata": {},
   "outputs": [],
   "source": []
  }
 ],
 "metadata": {
  "kernelspec": {
   "display_name": "Python 3",
   "language": "python",
   "name": "python3"
  },
  "language_info": {
   "codemirror_mode": {
    "name": "ipython",
    "version": 3
   },
   "file_extension": ".py",
   "mimetype": "text/x-python",
   "name": "python",
   "nbconvert_exporter": "python",
   "pygments_lexer": "ipython3",
   "version": "3.9.2"
  }
 },
 "nbformat": 4,
 "nbformat_minor": 2
}
