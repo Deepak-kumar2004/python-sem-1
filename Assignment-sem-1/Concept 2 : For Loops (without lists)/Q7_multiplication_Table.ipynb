{
 "cells": [
  {
   "cell_type": "markdown",
   "metadata": {},
   "source": [
    "**Given a positive integer, find the multiplication table of that integer up to 10.**"
   ]
  },
  {
   "cell_type": "code",
   "execution_count": 1,
   "metadata": {},
   "outputs": [],
   "source": [
    "def multiple_table(num):\n",
    "\n",
    "    # Checking the input,is integer or not.\n",
    "    if isinstance(num,int):\n",
    "\n",
    "        if num>=0: # checking number is positive or not.\n",
    "\n",
    "            # intiallizing the loop from 1 to 11.\n",
    "            for i in range(1,11): \n",
    "                print(num,\"X\",i,\"=\",num*i)  # dislplaying the multiplication table.\n",
    "          \n",
    "            \n",
    "        else:\n",
    "            print(\"Your input Negative integer\")\n",
    "    else:\n",
    "        print(\"Your input is not integer\")\n",
    "\n",
    "\n",
    "    "
   ]
  },
  {
   "cell_type": "code",
   "execution_count": 2,
   "metadata": {},
   "outputs": [
    {
     "name": "stdout",
     "output_type": "stream",
     "text": [
      "2 X 1 = 2\n",
      "2 X 2 = 4\n",
      "2 X 3 = 6\n",
      "2 X 4 = 8\n",
      "2 X 5 = 10\n",
      "2 X 6 = 12\n",
      "2 X 7 = 14\n",
      "2 X 8 = 16\n",
      "2 X 9 = 18\n",
      "2 X 10 = 20\n"
     ]
    }
   ],
   "source": [
    "multiple_table(2)"
   ]
  },
  {
   "cell_type": "code",
   "execution_count": 3,
   "metadata": {},
   "outputs": [
    {
     "name": "stdout",
     "output_type": "stream",
     "text": [
      "1 X 1 = 1\n",
      "1 X 2 = 2\n",
      "1 X 3 = 3\n",
      "1 X 4 = 4\n",
      "1 X 5 = 5\n",
      "1 X 6 = 6\n",
      "1 X 7 = 7\n",
      "1 X 8 = 8\n",
      "1 X 9 = 9\n",
      "1 X 10 = 10\n"
     ]
    }
   ],
   "source": [
    "multiple_table(1)"
   ]
  },
  {
   "cell_type": "code",
   "execution_count": 4,
   "metadata": {},
   "outputs": [
    {
     "name": "stdout",
     "output_type": "stream",
     "text": [
      "0 X 1 = 0\n",
      "0 X 2 = 0\n",
      "0 X 3 = 0\n",
      "0 X 4 = 0\n",
      "0 X 5 = 0\n",
      "0 X 6 = 0\n",
      "0 X 7 = 0\n",
      "0 X 8 = 0\n",
      "0 X 9 = 0\n",
      "0 X 10 = 0\n"
     ]
    }
   ],
   "source": [
    "multiple_table(0)"
   ]
  },
  {
   "cell_type": "code",
   "execution_count": 5,
   "metadata": {},
   "outputs": [
    {
     "name": "stdout",
     "output_type": "stream",
     "text": [
      "Your input Negative integer\n"
     ]
    }
   ],
   "source": [
    "multiple_table(-4)"
   ]
  },
  {
   "cell_type": "code",
   "execution_count": 6,
   "metadata": {},
   "outputs": [
    {
     "name": "stdout",
     "output_type": "stream",
     "text": [
      "Your input is not integer\n"
     ]
    }
   ],
   "source": [
    "multiple_table(\"8\")"
   ]
  },
  {
   "cell_type": "code",
   "execution_count": null,
   "metadata": {},
   "outputs": [],
   "source": []
  }
 ],
 "metadata": {
  "kernelspec": {
   "display_name": "Python 3",
   "language": "python",
   "name": "python3"
  },
  "language_info": {
   "codemirror_mode": {
    "name": "ipython",
    "version": 3
   },
   "file_extension": ".py",
   "mimetype": "text/x-python",
   "name": "python",
   "nbconvert_exporter": "python",
   "pygments_lexer": "ipython3",
   "version": "3.9.2"
  }
 },
 "nbformat": 4,
 "nbformat_minor": 2
}
