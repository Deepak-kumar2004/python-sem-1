{
 "cells": [
  {
   "cell_type": "markdown",
   "metadata": {},
   "source": [
    "**Given a positive integer, find all its divisors.**"
   ]
  },
  {
   "cell_type": "code",
   "execution_count": 1,
   "metadata": {},
   "outputs": [],
   "source": [
    "def divisor(num):\n",
    "\n",
    "    # Checking the input,is integer or not.\n",
    "    if isinstance(num,int):\n",
    "\n",
    "        # checking input is zero or not.\n",
    "        if num==0:  \n",
    "            print(\"Zero have infinetly number, zero can divisible by any every number Except itself\")\n",
    "        \n",
    "        # checking input is positive or not.\n",
    "        elif num>0:\n",
    "\n",
    "            # running loop using range from 1 upto given number, and checking divisibilty by each number. \n",
    "            for i in range(1,num+1):\n",
    "                if num%i==0:\n",
    "                    print(i)\n",
    "        else:\n",
    "            print(\"Your input Negative integer\")\n",
    "    else:\n",
    "        print(\"Your input is not integer\")\n",
    "\n",
    "\n",
    "    "
   ]
  },
  {
   "cell_type": "code",
   "execution_count": 2,
   "metadata": {},
   "outputs": [
    {
     "name": "stdout",
     "output_type": "stream",
     "text": [
      "1\n",
      "2\n",
      "5\n",
      "10\n"
     ]
    }
   ],
   "source": [
    "divisor(10)"
   ]
  },
  {
   "cell_type": "code",
   "execution_count": 3,
   "metadata": {},
   "outputs": [
    {
     "name": "stdout",
     "output_type": "stream",
     "text": [
      "1\n"
     ]
    }
   ],
   "source": [
    "divisor(1)"
   ]
  },
  {
   "cell_type": "code",
   "execution_count": 4,
   "metadata": {},
   "outputs": [
    {
     "name": "stdout",
     "output_type": "stream",
     "text": [
      "Zero have infinetly number, zero can divisible by any every number Except itself\n"
     ]
    }
   ],
   "source": [
    "divisor(0)"
   ]
  },
  {
   "cell_type": "code",
   "execution_count": 5,
   "metadata": {},
   "outputs": [
    {
     "name": "stdout",
     "output_type": "stream",
     "text": [
      "Your input is not integer\n"
     ]
    }
   ],
   "source": [
    "divisor(\"8\")"
   ]
  },
  {
   "cell_type": "code",
   "execution_count": 6,
   "metadata": {},
   "outputs": [
    {
     "name": "stdout",
     "output_type": "stream",
     "text": [
      "Your input Negative integer\n"
     ]
    }
   ],
   "source": [
    "divisor(-1)"
   ]
  },
  {
   "cell_type": "code",
   "execution_count": null,
   "metadata": {},
   "outputs": [],
   "source": []
  }
 ],
 "metadata": {
  "kernelspec": {
   "display_name": "Python 3",
   "language": "python",
   "name": "python3"
  },
  "language_info": {
   "codemirror_mode": {
    "name": "ipython",
    "version": 3
   },
   "file_extension": ".py",
   "mimetype": "text/x-python",
   "name": "python",
   "nbconvert_exporter": "python",
   "pygments_lexer": "ipython3",
   "version": "3.9.2"
  }
 },
 "nbformat": 4,
 "nbformat_minor": 2
}
