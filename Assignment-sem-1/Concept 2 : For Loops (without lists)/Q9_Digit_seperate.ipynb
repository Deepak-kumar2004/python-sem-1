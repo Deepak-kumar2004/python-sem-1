{
 "cells": [
  {
   "cell_type": "markdown",
   "metadata": {},
   "source": [
    "**Given a positive integer, print each of its digits separately without converting the number into a string.**"
   ]
  },
  {
   "cell_type": "code",
   "execution_count": 3,
   "metadata": {},
   "outputs": [],
   "source": [
    "import math  # importing math module\n",
    "\n",
    "\n",
    "def digit_sep(num):\n",
    "\n",
    "    # Checking the input,is integer or not.\n",
    "    if isinstance(num,int):\n",
    "\n",
    "\n",
    "        if num==0: # checking input is zero or not.\n",
    "            print(0)\n",
    "\n",
    "        elif num>0:\n",
    "            \n",
    "            # calculating the no. of digit of input using log10() function and adding 1 to it beacuse give 1 less.\n",
    "            no_of_digit=int(math.log10(num))+1\n",
    "\n",
    "            # running loop over range of no. of digit\n",
    "            for i in range(no_of_digit):\n",
    "\n",
    "                # using modulus operator with 10 we will get last digit of any number.\n",
    "                r=num%10\n",
    "\n",
    "                # using floor division operator with 10, we will get number by removal of last digit\n",
    "                num=num//10\n",
    "                print(r)\n",
    "           \n",
    "        else:\n",
    "            print(\"Your input Negative integer\")\n",
    "    else:\n",
    "        print(\"Your input is not integer\")\n",
    "\n",
    "\n",
    "    "
   ]
  },
  {
   "cell_type": "code",
   "execution_count": 4,
   "metadata": {},
   "outputs": [
    {
     "name": "stdout",
     "output_type": "stream",
     "text": [
      "4\n",
      "3\n",
      "3\n",
      "2\n",
      "2\n",
      "1\n"
     ]
    }
   ],
   "source": [
    "digit_sep(122334)"
   ]
  },
  {
   "cell_type": "code",
   "execution_count": 5,
   "metadata": {},
   "outputs": [
    {
     "name": "stdout",
     "output_type": "stream",
     "text": [
      "0\n"
     ]
    }
   ],
   "source": [
    "digit_sep(0)"
   ]
  },
  {
   "cell_type": "code",
   "execution_count": 6,
   "metadata": {},
   "outputs": [
    {
     "name": "stdout",
     "output_type": "stream",
     "text": [
      "Your input Negative integer\n"
     ]
    }
   ],
   "source": [
    "digit_sep(-374773)"
   ]
  },
  {
   "cell_type": "code",
   "execution_count": 7,
   "metadata": {},
   "outputs": [
    {
     "name": "stdout",
     "output_type": "stream",
     "text": [
      "Your input is not integer\n"
     ]
    }
   ],
   "source": [
    "digit_sep(\"6372\")"
   ]
  },
  {
   "cell_type": "code",
   "execution_count": 8,
   "metadata": {},
   "outputs": [
    {
     "name": "stdout",
     "output_type": "stream",
     "text": [
      "9\n"
     ]
    }
   ],
   "source": [
    "digit_sep(9)"
   ]
  },
  {
   "cell_type": "code",
   "execution_count": null,
   "metadata": {},
   "outputs": [],
   "source": []
  }
 ],
 "metadata": {
  "kernelspec": {
   "display_name": "Python 3",
   "language": "python",
   "name": "python3"
  },
  "language_info": {
   "codemirror_mode": {
    "name": "ipython",
    "version": 3
   },
   "file_extension": ".py",
   "mimetype": "text/x-python",
   "name": "python",
   "nbconvert_exporter": "python",
   "pygments_lexer": "ipython3",
   "version": "3.9.2"
  }
 },
 "nbformat": 4,
 "nbformat_minor": 2
}
