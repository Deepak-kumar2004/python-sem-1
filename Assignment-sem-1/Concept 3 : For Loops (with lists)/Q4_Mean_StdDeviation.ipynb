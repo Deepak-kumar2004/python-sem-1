{
 "cells": [
  {
   "cell_type": "markdown",
   "metadata": {},
   "source": [
    "**Given a list of numbers, find out the mean and standard deviation.**\n",
    "\n",
    "    we will check first that data type od input if list then will proceed,\n",
    "    after that will calculate the the length & sum of list.\n",
    "    if length not found to be zero then will proceed further to calculate mean.\n",
    "        1. Mean formula : Sum/Length \n",
    "    After calculating the mean then will calculate standard deviation using formula.\n",
    "        2. Std : ((Summision(xi-mean)**2)/Length)**0.5"
   ]
  },
  {
   "cell_type": "code",
   "execution_count": 1,
   "metadata": {},
   "outputs": [],
   "source": [
    "def std_dev_mean(lst):\n",
    "\n",
    "    # checking the input is list or not!\n",
    "    if isinstance(lst,list):\n",
    "        length=0\n",
    "        totall=0\n",
    "\n",
    "        # calculating the length and sum in this loop\n",
    "        for i in lst:\n",
    "            length+=1\n",
    "            totall+=i\n",
    "\n",
    "        if length==0: # returning \"None\" id length found to be 0!\n",
    "            return None\n",
    "        else:\n",
    "            mean=totall/length  # computing the mean!\n",
    "            std=0\n",
    "            for i in lst:       # in this loop, we are calculating the std deviation bu following the formula! \n",
    "                std+=(i-mean)**2\n",
    "            std=(std/length)**0.5\n",
    "            return mean,std\n",
    "    else:\n",
    "        print(\"Your input is not list\")\n"
   ]
  },
  {
   "cell_type": "code",
   "execution_count": 2,
   "metadata": {},
   "outputs": [
    {
     "name": "stdout",
     "output_type": "stream",
     "text": [
      "None\n"
     ]
    }
   ],
   "source": [
    "print(std_dev_mean([]))"
   ]
  },
  {
   "cell_type": "code",
   "execution_count": 3,
   "metadata": {},
   "outputs": [
    {
     "data": {
      "text/plain": [
       "(7.777777777777778, 3.705184889007348)"
      ]
     },
     "execution_count": 3,
     "metadata": {},
     "output_type": "execute_result"
    }
   ],
   "source": [
    "std_dev_mean([3,4,5,6,7,10,15,12,8])"
   ]
  },
  {
   "cell_type": "code",
   "execution_count": null,
   "metadata": {},
   "outputs": [],
   "source": []
  }
 ],
 "metadata": {
  "kernelspec": {
   "display_name": "Python 3",
   "language": "python",
   "name": "python3"
  },
  "language_info": {
   "codemirror_mode": {
    "name": "ipython",
    "version": 3
   },
   "file_extension": ".py",
   "mimetype": "text/x-python",
   "name": "python",
   "nbconvert_exporter": "python",
   "pygments_lexer": "ipython3",
   "version": "3.9.2"
  }
 },
 "nbformat": 4,
 "nbformat_minor": 2
}
