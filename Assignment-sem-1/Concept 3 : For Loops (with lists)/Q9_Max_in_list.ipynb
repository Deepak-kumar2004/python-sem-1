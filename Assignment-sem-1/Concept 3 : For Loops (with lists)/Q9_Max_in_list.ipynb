{
 "cells": [
  {
   "cell_type": "markdown",
   "metadata": {},
   "source": [
    "**Given a list of numbers, find out the maximum number.**"
   ]
  },
  {
   "cell_type": "code",
   "execution_count": 6,
   "metadata": {},
   "outputs": [],
   "source": [
    "def Maximun(lst):\n",
    "\n",
    "    # checking the input is list or not!\n",
    "    if isinstance(lst,list):  \n",
    "\n",
    "        # checking list is empty or not.if not then will proceed next!\n",
    "        if len(lst)!=0:\n",
    "\n",
    "            '''\n",
    "            will assign 1st number to a variable of list,\n",
    "            then compare each number of list one by one, \n",
    "            if variable value found to smaller then any number, we will\n",
    "            store the value of that number in variable we creted in first\n",
    "            '''\n",
    "            Maxi=lst[0]\n",
    "            for i in lst:\n",
    "                if Maxi<i:\n",
    "                    Maxi=i\n",
    "            return Maxi\n",
    "        else:\n",
    "            print(\"You Entered a empty list\")\n",
    "    else:\n",
    "        print(\"Your input is not a list\")\n",
    "            \n"
   ]
  },
  {
   "cell_type": "code",
   "execution_count": 7,
   "metadata": {},
   "outputs": [
    {
     "data": {
      "text/plain": [
       "56"
      ]
     },
     "execution_count": 7,
     "metadata": {},
     "output_type": "execute_result"
    }
   ],
   "source": [
    "Maximun([2,3,4,56,7,8])"
   ]
  },
  {
   "cell_type": "code",
   "execution_count": 8,
   "metadata": {},
   "outputs": [
    {
     "data": {
      "text/plain": [
       "-1"
      ]
     },
     "execution_count": 8,
     "metadata": {},
     "output_type": "execute_result"
    }
   ],
   "source": [
    "Maximun([-1,-3,-90,])"
   ]
  },
  {
   "cell_type": "code",
   "execution_count": 9,
   "metadata": {},
   "outputs": [
    {
     "name": "stdout",
     "output_type": "stream",
     "text": [
      "Your input is not a list\n"
     ]
    }
   ],
   "source": [
    "Maximun(\"2939\")"
   ]
  },
  {
   "cell_type": "code",
   "execution_count": 10,
   "metadata": {},
   "outputs": [
    {
     "name": "stdout",
     "output_type": "stream",
     "text": [
      "You Entered a empty list\n"
     ]
    }
   ],
   "source": [
    "Maximun([])"
   ]
  },
  {
   "cell_type": "code",
   "execution_count": null,
   "metadata": {},
   "outputs": [],
   "source": []
  }
 ],
 "metadata": {
  "kernelspec": {
   "display_name": "Python 3",
   "language": "python",
   "name": "python3"
  },
  "language_info": {
   "codemirror_mode": {
    "name": "ipython",
    "version": 3
   },
   "file_extension": ".py",
   "mimetype": "text/x-python",
   "name": "python",
   "nbconvert_exporter": "python",
   "pygments_lexer": "ipython3",
   "version": "3.9.2"
  }
 },
 "nbformat": 4,
 "nbformat_minor": 2
}
