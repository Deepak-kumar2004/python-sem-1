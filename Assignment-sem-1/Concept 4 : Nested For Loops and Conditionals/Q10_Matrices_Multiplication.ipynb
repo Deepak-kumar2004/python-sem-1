{
 "cells": [
  {
   "cell_type": "markdown",
   "metadata": {},
   "source": [
    "**Given two 3x3 matrices with values stored in two lists of length 9, find their product.**"
   ]
  },
  {
   "cell_type": "code",
   "execution_count": 14,
   "metadata": {},
   "outputs": [],
   "source": [
    "def mtrx_multiplication(m1,m2):\n",
    "\n",
    "    # Checking the given matrices are in the form of list or not.\n",
    "    if isinstance(m1,list) and isinstance(m2,list):\n",
    "\n",
    "        # Checking the Matrices are of same order or not.\n",
    "        if len(m1)==len(m2):\n",
    "                \n",
    "                m3=[]  # Initialzing the empty list for storing product Matrix.\n",
    "                order=len(m1)\n",
    "\n",
    "                # Runing first loop in the range of order of matrix, for the rows of first matrix.\n",
    "                for i in range(order):  \n",
    "                    row=[]     # Initializing the list for storing rows of product matrix.\n",
    "\n",
    "                    # Runnig second loop in the range of order of matrix, for the Column of second matrix\n",
    "                    for j in range(order):\n",
    "                        element=0   # creating a vriable for computing the Element (Aij) of product matrix.\n",
    "\n",
    "                        # Running Third loop in the range of order of matrix for Element one by one from rows of first matric and column of second matrix.\n",
    "                        for k in range(order):\n",
    "                            element+=m1[i][k]*m2[k][j]   # Computing the Element of product martix.\n",
    "\n",
    "                        # Appending the computed element in the row of product matrix.    \n",
    "                        row.append(element)\n",
    "\n",
    "                    # Appending the computed row in the product matrix.\n",
    "                    m3.append(row)\n",
    "   \n",
    "                return m3 # Returning the product Matrix.\n",
    "        else:\n",
    "             print(\"Given Matrices are not of same order\")  \n",
    "    else:\n",
    "        print(\"Your input is not a matrix\")        "
   ]
  },
  {
   "cell_type": "code",
   "execution_count": 15,
   "metadata": {},
   "outputs": [
    {
     "data": {
      "text/plain": [
       "[[30, 24, 18], [84, 69, 54], [138, 114, 90]]"
      ]
     },
     "execution_count": 15,
     "metadata": {},
     "output_type": "execute_result"
    }
   ],
   "source": [
    "a=[[1,2,3],[4,5,6],[7,8,9]]\n",
    "b=[[9,8,7],[6,5,4],[3,2,1]]\n",
    "mtrx_multiplication(a,b)"
   ]
  },
  {
   "cell_type": "code",
   "execution_count": 16,
   "metadata": {},
   "outputs": [
    {
     "name": "stdout",
     "output_type": "stream",
     "text": [
      "Given Matrices are not of same order\n"
     ]
    }
   ],
   "source": [
    "a=[[1,2,3],[4,5,6],[7,8,9]]\n",
    "b=[[9,8,7],[6,5,4]]\n",
    "mtrx_multiplication(a,b)"
   ]
  },
  {
   "cell_type": "code",
   "execution_count": 17,
   "metadata": {},
   "outputs": [
    {
     "name": "stdout",
     "output_type": "stream",
     "text": [
      "Your input is not a matrix\n"
     ]
    }
   ],
   "source": [
    "mtrx_multiplication(3,4)"
   ]
  },
  {
   "cell_type": "code",
   "execution_count": null,
   "metadata": {},
   "outputs": [],
   "source": []
  }
 ],
 "metadata": {
  "kernelspec": {
   "display_name": "Python 3",
   "language": "python",
   "name": "python3"
  },
  "language_info": {
   "codemirror_mode": {
    "name": "ipython",
    "version": 3
   },
   "file_extension": ".py",
   "mimetype": "text/x-python",
   "name": "python",
   "nbconvert_exporter": "python",
   "pygments_lexer": "ipython3",
   "version": "3.9.2"
  }
 },
 "nbformat": 4,
 "nbformat_minor": 2
}
