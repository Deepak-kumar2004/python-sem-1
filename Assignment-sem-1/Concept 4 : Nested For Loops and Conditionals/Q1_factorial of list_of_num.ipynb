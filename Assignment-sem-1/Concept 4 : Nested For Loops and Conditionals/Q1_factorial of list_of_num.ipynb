{
 "cells": [
  {
   "cell_type": "markdown",
   "metadata": {},
   "source": [
    "**Given a list of positive integers, find the factorial of all the numbers.**"
   ]
  },
  {
   "cell_type": "code",
   "execution_count": 14,
   "metadata": {},
   "outputs": [],
   "source": [
    "def factorial(lst):\n",
    "    if isinstance(lst,list): # checking the given input \n",
    "        if len(lst)==0:      # checking the lenght of a list\n",
    "            return None\n",
    "        else:\n",
    "            fact_list=[]     # initializing the empty list to store factorial of list item.\n",
    "            for i in lst:\n",
    "\n",
    "                if isinstance(i,int):  # checking the list item, integer or not.\n",
    "\n",
    "                    if i in [0,1]:           # checking, if list item id 1 or 0 then its factorial is 1.\n",
    "                        fact_list.append(1)\n",
    "\n",
    "\n",
    "                    elif i>1:\n",
    "                        fact=1          # creating a variable to compute the factorilal.        \n",
    "\n",
    "                        for j in range(2,i+1):\n",
    "                            fact=fact*j         # computing factorial.\n",
    "                        fact_list.append(fact)  # appending factorial one by one in the factorial list.\n",
    "                    else:\n",
    "                        fact_list.append(\"not defined\")\n",
    "                else:\n",
    "                    fact_list.append(\"not a integer\")\n",
    "            return fact_list\n",
    "    else:\n",
    "        print(\"Your input is not list\")"
   ]
  },
  {
   "cell_type": "code",
   "execution_count": 15,
   "metadata": {},
   "outputs": [
    {
     "data": {
      "text/plain": [
       "[2, 6, 24, 120, 'not defined', 1, 1, 2]"
      ]
     },
     "execution_count": 15,
     "metadata": {},
     "output_type": "execute_result"
    }
   ],
   "source": [
    "factorial([2,3,4,5,-1,0,1,2])"
   ]
  },
  {
   "cell_type": "code",
   "execution_count": 16,
   "metadata": {},
   "outputs": [
    {
     "data": {
      "text/plain": [
       "[25852016738884976640000]"
      ]
     },
     "execution_count": 16,
     "metadata": {},
     "output_type": "execute_result"
    }
   ],
   "source": [
    "factorial([23])"
   ]
  },
  {
   "cell_type": "code",
   "execution_count": 17,
   "metadata": {},
   "outputs": [
    {
     "data": {
      "text/plain": [
       "[25852016738884976640000, 'not a integer', 120]"
      ]
     },
     "execution_count": 17,
     "metadata": {},
     "output_type": "execute_result"
    }
   ],
   "source": [
    "factorial([23,\"75\",5])"
   ]
  },
  {
   "cell_type": "code",
   "execution_count": null,
   "metadata": {},
   "outputs": [],
   "source": []
  }
 ],
 "metadata": {
  "kernelspec": {
   "display_name": "Python 3",
   "language": "python",
   "name": "python3"
  },
  "language_info": {
   "codemirror_mode": {
    "name": "ipython",
    "version": 3
   },
   "file_extension": ".py",
   "mimetype": "text/x-python",
   "name": "python",
   "nbconvert_exporter": "python",
   "pygments_lexer": "ipython3",
   "version": "3.9.2"
  }
 },
 "nbformat": 4,
 "nbformat_minor": 2
}
