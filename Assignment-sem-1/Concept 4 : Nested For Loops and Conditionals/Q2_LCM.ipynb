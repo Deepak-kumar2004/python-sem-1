{
 "cells": [
  {
   "cell_type": "markdown",
   "metadata": {},
   "source": [
    "**Given two numbers, find its Least Common Multiple (LCM).**"
   ]
  },
  {
   "cell_type": "code",
   "execution_count": 1,
   "metadata": {},
   "outputs": [],
   "source": [
    "def lcm(num1,num2):\n",
    "\n",
    "    if num1==num2:   # Checking if both number is same then the number itself is lcm\n",
    "        return num1\n",
    "    \n",
    "    elif num1==0 or num2==0:  # Checking if one of any number is zero, then zero is lcm of them\n",
    "        return 0\n",
    "    \n",
    "    # finding the greater one btw them.\n",
    "    elif num1>num2:\n",
    "        greater=num1\n",
    "    else:\n",
    "        greater=num2\n",
    "\n",
    "    # Runnig the loop in range from the greater number to the product of number.\n",
    "    for i in range(greater,(num1*num2)+1):\n",
    "\n",
    "        # if both number can divide i then storing value of i in lcm\n",
    "        if i%num1==0 and i%num2==0:\n",
    "            lcm=i\n",
    "            return lcm  # Returning LCM"
   ]
  },
  {
   "cell_type": "code",
   "execution_count": 14,
   "metadata": {},
   "outputs": [
    {
     "name": "stdout",
     "output_type": "stream",
     "text": [
      "6\n"
     ]
    }
   ],
   "source": [
    "lcm(3,2)"
   ]
  },
  {
   "cell_type": "code",
   "execution_count": 19,
   "metadata": {},
   "outputs": [
    {
     "name": "stdout",
     "output_type": "stream",
     "text": [
      "None\n"
     ]
    }
   ],
   "source": [
    "print(lcm(0,1))"
   ]
  },
  {
   "cell_type": "code",
   "execution_count": null,
   "metadata": {},
   "outputs": [],
   "source": []
  }
 ],
 "metadata": {
  "kernelspec": {
   "display_name": "Python 3",
   "language": "python",
   "name": "python3"
  },
  "language_info": {
   "codemirror_mode": {
    "name": "ipython",
    "version": 3
   },
   "file_extension": ".py",
   "mimetype": "text/x-python",
   "name": "python",
   "nbconvert_exporter": "python",
   "pygments_lexer": "ipython3",
   "version": "3.9.2"
  }
 },
 "nbformat": 4,
 "nbformat_minor": 2
}
