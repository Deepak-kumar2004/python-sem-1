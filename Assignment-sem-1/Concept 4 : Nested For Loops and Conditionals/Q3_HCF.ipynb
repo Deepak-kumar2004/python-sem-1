{
 "cells": [
  {
   "cell_type": "markdown",
   "metadata": {},
   "source": [
    "**Given two numbers, find its Greatest Common Divisor (Divisor).**"
   ]
  },
  {
   "cell_type": "code",
   "execution_count": 15,
   "metadata": {},
   "outputs": [],
   "source": [
    "def hcf(num1,num2):\n",
    "\n",
    "    # Checking if both number is zero or not, if yes then number itself id HCF.\n",
    "    if num1==num2:\n",
    "        return num1\n",
    "    \n",
    "    # Checking if one of the number number is zero, then non zero number is HCF\n",
    "    elif num1==0 or num2==0:\n",
    "        if num1==0:\n",
    "            return num2\n",
    "        else:\n",
    "            return num1\n",
    "        \n",
    "    # Finding the samllest number btw them.\n",
    "    elif num1>num2:\n",
    "        smaller=num2\n",
    "    else:\n",
    "        smaller=num1\n",
    "\n",
    "    \n",
    "    hcf=1 # Creating a variable for storing HCF\n",
    "\n",
    "    # Running loop from 2 to samller number btw them.\n",
    "    for i in range(2,smaller+1):\n",
    "        \n",
    "        # If i can able to divide both number then will save i in the hcf\n",
    "        if num1%i==0 and num2%i==0:\n",
    "            hcf=i\n",
    "    return hcf  # Returning the HCF \n",
    "\n"
   ]
  },
  {
   "cell_type": "code",
   "execution_count": 16,
   "metadata": {},
   "outputs": [
    {
     "data": {
      "text/plain": [
       "6"
      ]
     },
     "execution_count": 16,
     "metadata": {},
     "output_type": "execute_result"
    }
   ],
   "source": [
    "hcf(12,18)"
   ]
  },
  {
   "cell_type": "code",
   "execution_count": 17,
   "metadata": {},
   "outputs": [
    {
     "data": {
      "text/plain": [
       "1"
      ]
     },
     "execution_count": 17,
     "metadata": {},
     "output_type": "execute_result"
    }
   ],
   "source": [
    "hcf(1,18)"
   ]
  },
  {
   "cell_type": "code",
   "execution_count": 18,
   "metadata": {},
   "outputs": [
    {
     "data": {
      "text/plain": [
       "18"
      ]
     },
     "execution_count": 18,
     "metadata": {},
     "output_type": "execute_result"
    }
   ],
   "source": [
    "hcf(18,18)"
   ]
  },
  {
   "cell_type": "code",
   "execution_count": 19,
   "metadata": {},
   "outputs": [
    {
     "data": {
      "text/plain": [
       "45"
      ]
     },
     "execution_count": 19,
     "metadata": {},
     "output_type": "execute_result"
    }
   ],
   "source": [
    "hcf(45,0)"
   ]
  },
  {
   "cell_type": "code",
   "execution_count": null,
   "metadata": {},
   "outputs": [],
   "source": []
  }
 ],
 "metadata": {
  "kernelspec": {
   "display_name": "Python 3",
   "language": "python",
   "name": "python3"
  },
  "language_info": {
   "codemirror_mode": {
    "name": "ipython",
    "version": 3
   },
   "file_extension": ".py",
   "mimetype": "text/x-python",
   "name": "python",
   "nbconvert_exporter": "python",
   "pygments_lexer": "ipython3",
   "version": "3.9.2"
  }
 },
 "nbformat": 4,
 "nbformat_minor": 2
}
