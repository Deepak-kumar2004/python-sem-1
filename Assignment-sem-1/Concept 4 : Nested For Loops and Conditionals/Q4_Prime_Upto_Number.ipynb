{
 "cells": [
  {
   "cell_type": "markdown",
   "metadata": {},
   "source": [
    "**Given a positive integer, find out all prime numbers from 1 up to this number.**"
   ]
  },
  {
   "cell_type": "code",
   "execution_count": 1,
   "metadata": {},
   "outputs": [],
   "source": [
    "def prime_num(num):\n",
    "    if isinstance(num,int):        # Checking the input is integer or not.\n",
    "\n",
    "        if num>=0:                 # checking the number if is postive or not.\n",
    "            if num in [0,1]:       # checking the number is 0 or 1 then we can not find prime btw them.\n",
    "                return None\n",
    "            else:\n",
    "                prime_lst=[]       # Initialzing empty list for storint primes.\n",
    "\n",
    "                for i in range(2,num+1):\n",
    "\n",
    "                    prime=True      # creating a variable and assign \"True\" to it, for future checking.\n",
    "                    n=int(i**0.5)   # computing square root and converting it into integer.\n",
    "\n",
    "                    for j in range(2,n+1):  \n",
    "                        if i%j==0:       # checking if the number came from above loop is divisible by any number in this loop then its not prime.\n",
    "                            prime=False\n",
    "                            break        \n",
    "                    if prime==True:     # checking if created variable is still \"Ture\" then its a prime and appending it into list.\n",
    "                        prime_lst.append(i)\n",
    "                return prime_lst         # Returing list of prime number.\n",
    "        else:\n",
    "            print(\"You Entered a Negative Number\")\n",
    "    else:\n",
    "        print(\"Your input in not an integer\")\n",
    "\n"
   ]
  },
  {
   "cell_type": "code",
   "execution_count": 2,
   "metadata": {},
   "outputs": [
    {
     "data": {
      "text/plain": [
       "[2, 3, 5, 7, 11, 13, 17, 19]"
      ]
     },
     "execution_count": 2,
     "metadata": {},
     "output_type": "execute_result"
    }
   ],
   "source": [
    "prime_num(20)"
   ]
  },
  {
   "cell_type": "code",
   "execution_count": 3,
   "metadata": {},
   "outputs": [
    {
     "name": "stdout",
     "output_type": "stream",
     "text": [
      "None\n"
     ]
    }
   ],
   "source": [
    "print(prime_num(1))"
   ]
  },
  {
   "cell_type": "code",
   "execution_count": 4,
   "metadata": {},
   "outputs": [
    {
     "name": "stdout",
     "output_type": "stream",
     "text": [
      "None\n"
     ]
    }
   ],
   "source": [
    "print(prime_num(0))"
   ]
  },
  {
   "cell_type": "code",
   "execution_count": 5,
   "metadata": {},
   "outputs": [
    {
     "name": "stdout",
     "output_type": "stream",
     "text": [
      "You Entered a Negative Number\n"
     ]
    }
   ],
   "source": [
    "prime_num(-7)"
   ]
  },
  {
   "cell_type": "code",
   "execution_count": 6,
   "metadata": {},
   "outputs": [
    {
     "name": "stdout",
     "output_type": "stream",
     "text": [
      "Your input in not an integer\n"
     ]
    }
   ],
   "source": [
    "prime_num(\"98\")"
   ]
  }
 ],
 "metadata": {
  "kernelspec": {
   "display_name": "Python 3",
   "language": "python",
   "name": "python3"
  },
  "language_info": {
   "codemirror_mode": {
    "name": "ipython",
    "version": 3
   },
   "file_extension": ".py",
   "mimetype": "text/x-python",
   "name": "python",
   "nbconvert_exporter": "python",
   "pygments_lexer": "ipython3",
   "version": "3.9.2"
  }
 },
 "nbformat": 4,
 "nbformat_minor": 2
}
