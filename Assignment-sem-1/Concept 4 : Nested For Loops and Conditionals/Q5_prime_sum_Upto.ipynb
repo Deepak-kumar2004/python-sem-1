{
 "cells": [
  {
   "cell_type": "markdown",
   "metadata": {},
   "source": [
    "**Given a positive integers, find out the sum of all prime numbers from 1 up to this number.**"
   ]
  },
  {
   "cell_type": "code",
   "execution_count": 1,
   "metadata": {},
   "outputs": [],
   "source": [
    "def prime_sum(num):\n",
    "    if isinstance(num,int):             # Checking the input is integer or not.\n",
    "        if num>=0:                      # checking the number if is postive or not.\n",
    "            if num in [0,1]:            # checking the number is 0 or 1 then we can not find prime btw them.\n",
    "                return 0\n",
    "            else:\n",
    "                prime_sum=0             # creating a variable for for storing the sum of the prime number.\n",
    "\n",
    "                for i in range(2,num+1):\n",
    "\n",
    "                    prime=True          # creating a variable and assign \"True\" to it, for future checking.\n",
    "                    n=int(i**0.5)       # computing square root and converting it into integer.\n",
    "\n",
    "                    for j in range(2,n+1):\n",
    "                        if i%j==0:      # checking if the number came from above loop is divisible by any number in this loop then its not prime.\n",
    "                            prime=False\n",
    "                            break\n",
    "                    if prime==True:     # checking if created variable is still \"Ture\" then its a prime and adding it to variable for summision.\n",
    "                        prime_sum+=i\n",
    "                return prime_sum        # Returing sum of prime number.\n",
    "        else:\n",
    "            print(\"You Entered a Negative Number\")\n",
    "    else:\n",
    "        print(\"Your input in not an integer\")\n",
    "\n"
   ]
  },
  {
   "cell_type": "code",
   "execution_count": 2,
   "metadata": {},
   "outputs": [
    {
     "data": {
      "text/plain": [
       "17"
      ]
     },
     "execution_count": 2,
     "metadata": {},
     "output_type": "execute_result"
    }
   ],
   "source": [
    "prime_sum(10)"
   ]
  },
  {
   "cell_type": "code",
   "execution_count": 3,
   "metadata": {},
   "outputs": [
    {
     "name": "stdout",
     "output_type": "stream",
     "text": [
      "You Entered a Negative Number\n"
     ]
    }
   ],
   "source": [
    "prime_sum(-20)"
   ]
  },
  {
   "cell_type": "code",
   "execution_count": 4,
   "metadata": {},
   "outputs": [
    {
     "data": {
      "text/plain": [
       "0"
      ]
     },
     "execution_count": 4,
     "metadata": {},
     "output_type": "execute_result"
    }
   ],
   "source": [
    "prime_sum(1)"
   ]
  },
  {
   "cell_type": "code",
   "execution_count": 5,
   "metadata": {},
   "outputs": [
    {
     "name": "stdout",
     "output_type": "stream",
     "text": [
      "Your input in not an integer\n"
     ]
    }
   ],
   "source": [
    "prime_sum(\"20\")"
   ]
  },
  {
   "cell_type": "code",
   "execution_count": null,
   "metadata": {},
   "outputs": [],
   "source": []
  }
 ],
 "metadata": {
  "kernelspec": {
   "display_name": "Python 3",
   "language": "python",
   "name": "python3"
  },
  "language_info": {
   "codemirror_mode": {
    "name": "ipython",
    "version": 3
   },
   "file_extension": ".py",
   "mimetype": "text/x-python",
   "name": "python",
   "nbconvert_exporter": "python",
   "pygments_lexer": "ipython3",
   "version": "3.9.2"
  }
 },
 "nbformat": 4,
 "nbformat_minor": 2
}
