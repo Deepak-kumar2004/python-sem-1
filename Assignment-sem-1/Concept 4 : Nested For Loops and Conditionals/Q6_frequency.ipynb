{
 "cells": [
  {
   "cell_type": "markdown",
   "metadata": {},
   "source": [
    "**Given a list of numbers, find out how many times each number occurs in the list.**"
   ]
  },
  {
   "cell_type": "code",
   "execution_count": 1,
   "metadata": {},
   "outputs": [],
   "source": [
    "def num_freq(lst):\n",
    "    if isinstance(lst,list):   # Checking if the input is list or not.\n",
    "        lst_uni=[]             # Initialzing the empty list for storing the the unique the number.\n",
    "        dict_num={}            # Initialzing the empty Dictionary foe storing frequency corresponding to number.\n",
    "        for i in lst:\n",
    "            if i not in lst_uni:\n",
    "                lst_uni.append(i)\n",
    "                count=0        # Creating the count variable.\n",
    "                for j in lst:\n",
    "                    if j==i:        # if number from above loop matches with number with this loop.\n",
    "                        count+=1    # we are increasing the count by 1.\n",
    "\n",
    "                dict_num[str(i)]=count # Storing the number with its count in the dictionary.\n",
    "        return dict_num\n",
    "    else:\n",
    "        print(\"Your input is not a list\")\n",
    "\n"
   ]
  },
  {
   "cell_type": "code",
   "execution_count": 2,
   "metadata": {},
   "outputs": [
    {
     "data": {
      "text/plain": [
       "{'2': 5, '3': 7, '4': 6, '5': 9, '34': 1, '6': 4, '7': 7, '9': 2, '8': 2}"
      ]
     },
     "execution_count": 2,
     "metadata": {},
     "output_type": "execute_result"
    }
   ],
   "source": [
    "num_freq([2,3,4,5,4,5,3,2,34,5,6,7,3,5,6,3,2,4,5,7,7,5,4,3,2,3,4,5,4,3,2,5,6,7,9,9,8,7,6,5,7,7,8])"
   ]
  },
  {
   "cell_type": "code",
   "execution_count": 3,
   "metadata": {},
   "outputs": [
    {
     "data": {
      "text/plain": [
       "{'2': 4, '3': 3, '1': 3, '0': 3}"
      ]
     },
     "execution_count": 3,
     "metadata": {},
     "output_type": "execute_result"
    }
   ],
   "source": [
    "num_freq([2,2,2,2,3,3,3,1,1,0,1,0,0])"
   ]
  },
  {
   "cell_type": "code",
   "execution_count": 4,
   "metadata": {},
   "outputs": [
    {
     "name": "stdout",
     "output_type": "stream",
     "text": [
      "Your input is not a list\n"
     ]
    }
   ],
   "source": [
    "num_freq(10)"
   ]
  },
  {
   "cell_type": "code",
   "execution_count": null,
   "metadata": {},
   "outputs": [],
   "source": []
  }
 ],
 "metadata": {
  "kernelspec": {
   "display_name": "Python 3",
   "language": "python",
   "name": "python3"
  },
  "language_info": {
   "codemirror_mode": {
    "name": "ipython",
    "version": 3
   },
   "file_extension": ".py",
   "mimetype": "text/x-python",
   "name": "python",
   "nbconvert_exporter": "python",
   "pygments_lexer": "ipython3",
   "version": "3.9.2"
  }
 },
 "nbformat": 4,
 "nbformat_minor": 2
}
