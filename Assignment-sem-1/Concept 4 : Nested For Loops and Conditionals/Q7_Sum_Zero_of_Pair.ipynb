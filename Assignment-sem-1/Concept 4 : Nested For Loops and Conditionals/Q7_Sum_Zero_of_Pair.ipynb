{
 "cells": [
  {
   "cell_type": "markdown",
   "metadata": {},
   "source": [
    "**Given a list of integers, find all pairs of integers in the list whose sum is zero.**"
   ]
  },
  {
   "cell_type": "code",
   "execution_count": 1,
   "metadata": {},
   "outputs": [],
   "source": [
    "def pair_sum(lst):\n",
    "    if isinstance(lst,list):  # Checking if the input is list or not.\n",
    "\n",
    "        pair_lst=[]            # Initailzing the empty List for storing the Pair.\n",
    "        for i in lst:          # Itrating over provide list with \"i\" variable\n",
    "            for j in lst:      # Again itarting over given list with \"j\" Variable for comparing each number with every number of list.\n",
    "                if i+j==0:     # Checking if sum of i and j give zero, if yes then appending the pais to list created above.\n",
    "                    pair=(i,j)\n",
    "                    pair_lst.append(pair)     \n",
    "\n",
    "        return pair_lst       # returning the list of pairs.\n",
    "    else:\n",
    "        print(\"Your input is not a list\")\n",
    "                    \n"
   ]
  },
  {
   "cell_type": "code",
   "execution_count": 2,
   "metadata": {},
   "outputs": [
    {
     "data": {
      "text/plain": [
       "[(-3, 3), (4, -4), (0, 0), (-4, 4), (3, -3)]"
      ]
     },
     "execution_count": 2,
     "metadata": {},
     "output_type": "execute_result"
    }
   ],
   "source": [
    "pair_sum([-3,2,4,0,9,-4,3])"
   ]
  },
  {
   "cell_type": "code",
   "execution_count": null,
   "metadata": {},
   "outputs": [],
   "source": []
  }
 ],
 "metadata": {
  "kernelspec": {
   "display_name": "Python 3",
   "language": "python",
   "name": "python3"
  },
  "language_info": {
   "codemirror_mode": {
    "name": "ipython",
    "version": 3
   },
   "file_extension": ".py",
   "mimetype": "text/x-python",
   "name": "python",
   "nbconvert_exporter": "python",
   "pygments_lexer": "ipython3",
   "version": "3.9.2"
  }
 },
 "nbformat": 4,
 "nbformat_minor": 2
}
