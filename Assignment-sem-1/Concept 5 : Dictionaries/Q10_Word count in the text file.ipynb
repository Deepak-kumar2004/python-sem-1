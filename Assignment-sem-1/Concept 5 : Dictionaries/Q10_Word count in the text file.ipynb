{
 "cells": [
  {
   "cell_type": "markdown",
   "metadata": {},
   "source": [
    "**Create a text file with one word in each line. The words can be repeated,\n",
    "i.e. the same word can come in more than one line. Read this text file in\n",
    "python, and create a dictionary where the key is the word and the value is the number of times it occurs in the text file.**"
   ]
  },
  {
   "cell_type": "code",
   "execution_count": 4,
   "metadata": {},
   "outputs": [
    {
     "name": "stdout",
     "output_type": "stream",
     "text": [
      "apple : 3\n",
      "banana : 2\n",
      "cherry : 1\n",
      "date : 1\n"
     ]
    }
   ],
   "source": [
    "dict_count={}\n",
    "\n",
    "with open(\"example.txt\",'r') as file:\n",
    "\n",
    "    # Running the loop on file handler read and operate on data on by one.\n",
    "    for line in file:\n",
    "\n",
    "        # Removing the White spaces and newLine, and converting it into the lower case cause one with diffrent case have same meaning.\n",
    "        word=line.strip().lower()\n",
    "\n",
    "        # Checkind if the word already appended in the above created then, will increasing its value by 1\n",
    "        if word in dict_count:\n",
    "\n",
    "            dict_count[word]+=1\n",
    "\n",
    "        else: # If not then appending the word and saving the value to 1.\n",
    "\n",
    "            dict_count[word]=1\n",
    "\n",
    "\n",
    "for i,j in dict_count.items():\n",
    "\n",
    "    print(i,\":\",j)\n",
    "\n",
    "        "
   ]
  },
  {
   "cell_type": "code",
   "execution_count": null,
   "metadata": {},
   "outputs": [],
   "source": []
  }
 ],
 "metadata": {
  "kernelspec": {
   "display_name": "Python 3",
   "language": "python",
   "name": "python3"
  },
  "language_info": {
   "codemirror_mode": {
    "name": "ipython",
    "version": 3
   },
   "file_extension": ".py",
   "mimetype": "text/x-python",
   "name": "python",
   "nbconvert_exporter": "python",
   "pygments_lexer": "ipython3",
   "version": "3.9.2"
  }
 },
 "nbformat": 4,
 "nbformat_minor": 2
}
