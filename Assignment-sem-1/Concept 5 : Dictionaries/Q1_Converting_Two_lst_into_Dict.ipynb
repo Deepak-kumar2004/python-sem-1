{
 "cells": [
  {
   "cell_type": "markdown",
   "metadata": {},
   "source": [
    "**Convert these two lists into a dictionary. Take the keys from the first list, and values from the second one.**\n",
    "\n",
    "    keys = [‘Ten’, ‘Twenty’, ‘Thirty’]\n",
    "    values = [10, 20, 30]"
   ]
  },
  {
   "cell_type": "code",
   "execution_count": 1,
   "metadata": {},
   "outputs": [
    {
     "name": "stdout",
     "output_type": "stream",
     "text": [
      "{'Ten': 10, 'Twenty': 20, 'Thirty': 30}\n"
     ]
    }
   ],
   "source": [
    "keys = ['Ten', 'Twenty', 'Thirty']\n",
    "values = [10, 20, 30]\n",
    "\n",
    "# Creating the dictionary\n",
    "dict1={}     \n",
    "\n",
    "dict_len=len(keys)  # calculating the lenght of keys for looping.\n",
    "\n",
    "for i in range(dict_len):\n",
    "\n",
    "    # appending the keys and corresponding the value in dictionary.\n",
    "    dict1[keys[i]]=values[i]\n",
    "print(dict1)"
   ]
  },
  {
   "cell_type": "code",
   "execution_count": null,
   "metadata": {},
   "outputs": [],
   "source": []
  }
 ],
 "metadata": {
  "kernelspec": {
   "display_name": "Python 3",
   "language": "python",
   "name": "python3"
  },
  "language_info": {
   "codemirror_mode": {
    "name": "ipython",
    "version": 3
   },
   "file_extension": ".py",
   "mimetype": "text/x-python",
   "name": "python",
   "nbconvert_exporter": "python",
   "pygments_lexer": "ipython3",
   "version": "3.9.2"
  }
 },
 "nbformat": 4,
 "nbformat_minor": 2
}
