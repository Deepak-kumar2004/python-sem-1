{
 "cells": [
  {
   "cell_type": "markdown",
   "metadata": {},
   "source": [
    "**Create a new dictionary so that it only has the keys mentioned in another list**\n",
    "\n",
    "    sample_dict = { \"name\": \"Kelly\", \"age\": 25, \"salary\": 8000, \"city\": \"New york\"}\n",
    "    Keys to extract\n",
    "    keys = [\"name\", \"salary\"]"
   ]
  },
  {
   "cell_type": "code",
   "execution_count": null,
   "metadata": {},
   "outputs": [],
   "source": [
    "sample_dict = { \"name\": \"Kelly\", \"age\": 25, \"salary\": 8000, \"city\": \"New york\"}\n",
    "# Keys to extract\n",
    "keys = [\"name\", \"salary\"]\n",
    "New_dict={}\n",
    "\n",
    "# running loop in keys list of requirment.\n",
    "for i in keys:\n",
    "\n",
    "    # Checking the key in dictionary and extracting the data corresponding to the key and append into the new dict.\n",
    "    if i in sample_dict.keys():\n",
    "        New_dict[i]=sample_dict[i]\n",
    "print(New_dict)"
   ]
  }
 ],
 "metadata": {
  "language_info": {
   "name": "python"
  }
 },
 "nbformat": 4,
 "nbformat_minor": 2
}
