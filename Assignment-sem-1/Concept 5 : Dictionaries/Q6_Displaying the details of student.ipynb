{
 "cells": [
  {
   "cell_type": "markdown",
   "metadata": {},
   "source": [
    "**Create dictionary to store the total marks of 5 students in the class in 3 subjects (Course1, Course2, Course3). The keys must be the student names, and the values must be the list of marks. Create another list which has the course names in the same order as the marks are stored in the dictionary values. Now write nested for loop to print the marks for each student exam wise.**\n",
    "\n",
    "           Student1\n",
    "        ---------------------\n",
    "        Course1 marks : 82\n",
    "        Course2 marks : 84\n",
    "        Course3 marks : 72\n",
    "           Student2\n",
    "        ---------------------\n",
    "        Course1 marks : 87\n",
    "        Course2 marks : 83\n",
    "        Course3 marks : 78"
   ]
  },
  {
   "cell_type": "code",
   "execution_count": 1,
   "metadata": {},
   "outputs": [
    {
     "name": "stdout",
     "output_type": "stream",
     "text": [
      "Anshu \n",
      "\n",
      "Physics -- 76\n",
      "Chemistry -- 65\n",
      "Math -- 45\n",
      "----------------\n",
      "\n",
      "Kudus \n",
      "\n",
      "Physics -- 99\n",
      "Chemistry -- 90\n",
      "Math -- 89\n",
      "----------------\n",
      "\n",
      "Amit \n",
      "\n",
      "Physics -- 88\n",
      "Chemistry -- 90\n",
      "Math -- 89\n",
      "----------------\n",
      "\n",
      "Vishal \n",
      "\n",
      "Physics -- 88\n",
      "Chemistry -- 67\n",
      "Math -- 44\n",
      "----------------\n",
      "\n",
      "Abhishek \n",
      "\n",
      "Physics -- 99\n",
      "Chemistry -- 67\n",
      "Math -- 89\n",
      "----------------\n",
      "\n"
     ]
    }
   ],
   "source": [
    "dict_result={\"Anshu\":[76,65,45],\n",
    "             \"Kudus\":[99,90,89],\n",
    "             \"Amit\":[88,90,89],\n",
    "             \"Vishal\":[88,67,44],\n",
    "             \"Abhishek\":[99,67,89]}\n",
    "\n",
    "course_list=[\"Physics\",\"Chemistry\",\"Math\"]\n",
    "Num_course=len(course_list)\n",
    "\n",
    "# Running the loop in dictionary data using \"items()\" dunction.\n",
    "for student,Mark_list in dict_result.items():\n",
    "    print(student,\"\\n\")\n",
    "\n",
    "    # running loop for exracting course name and its corresponding mark of student.\n",
    "    for j in range(Num_course):\n",
    "        course=course_list[j]\n",
    "        mark=Mark_list[j]\n",
    "        print(course,\"--\",mark)\n",
    "        \n",
    "    print(\"----------------\\n\")\n"
   ]
  },
  {
   "cell_type": "code",
   "execution_count": null,
   "metadata": {},
   "outputs": [],
   "source": []
  }
 ],
 "metadata": {
  "kernelspec": {
   "display_name": "Python 3",
   "language": "python",
   "name": "python3"
  },
  "language_info": {
   "codemirror_mode": {
    "name": "ipython",
    "version": 3
   },
   "file_extension": ".py",
   "mimetype": "text/x-python",
   "name": "python",
   "nbconvert_exporter": "python",
   "pygments_lexer": "ipython3",
   "version": "3.9.2"
  }
 },
 "nbformat": 4,
 "nbformat_minor": 2
}
