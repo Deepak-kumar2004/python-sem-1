{
 "cells": [
  {
   "cell_type": "markdown",
   "metadata": {},
   "source": [
    "**Write a for loop to create another dictionary from the above where the marks are replaced by grades. Above 80 is A grade, 60–80 is B grade, 40–60 is C grade, and below 40 is F. Create another dictionary to store the max and average marks for each student. Use this dictionary to compute the final CPI/CGPA of the student. Course1 is of 4 credits, Course2 of 10 credits, and Course3 of 6 credits. Store these credits in a list. Write this dictionary as a json file, and read it back into a new dictionary.**"
   ]
  },
  {
   "cell_type": "code",
   "execution_count": 2,
   "metadata": {},
   "outputs": [],
   "source": [
    "dict_result={\"Anshu\":[76,65,45],\n",
    "             \"Kudus\":[99,90,89],\n",
    "             \"Amit\":[88,90,89],\n",
    "             \"Vishal\":[88,67,44],\n",
    "             \"Abhishek\":[99,67,89]}\n",
    "\n",
    "course_list=[\"Physics\",\"Chemistry\",\"Math\"]\n",
    "Num_course=len(course_list)\n",
    "\n"
   ]
  },
  {
   "cell_type": "code",
   "execution_count": 3,
   "metadata": {},
   "outputs": [],
   "source": [
    "# Creating two dictionary to stored the grades of student and one for avg and maximum mark.\n",
    "dict_grade={}\n",
    "dict_max_avg={}\n",
    "\n",
    "# computing the avg and maximum and saving the grade in the dictionary by the given parameter in this loop.\n",
    "for student,mark_list in dict_result.items():\n",
    "\n",
    "    grade_list=[] # created this list to stored the grade of a student and append in the dictionary later.\n",
    "\n",
    "    max_mark=mark_list[0] # stored the first number of mark-list of student, will check this by each num in the list if found someone greater then save that in this.\n",
    "\n",
    "    sum_marks=0\n",
    "    avg_mark=0\n",
    "\n",
    "    # Checking the each mark by given parameter and appending in the gardelist.\n",
    "    for mark in mark_list:\n",
    "        if 80<mark<=100:\n",
    "            grade_list.append(\"A\")\n",
    "        elif 60<mark:\n",
    "            grade_list.append(\"B\")\n",
    "        elif 40<mark:\n",
    "            grade_list.append(\"C\")\n",
    "        else:\n",
    "            grade_list.append(\"F\")\n",
    "\n",
    "        sum_marks+=mark   # Computing the sum\n",
    "\n",
    "        if max_mark<mark:  # finding the Maximun\n",
    "            max_mark=mark\n",
    "\n",
    "    avg_mark=sum_marks/Num_course # Computing the Avgrage.\n",
    "\n",
    "    dict_grade[student]=grade_list  # saving the grade list with the corresponding student name.\n",
    "\n",
    "    dict_max_avg[student]=(max_mark,avg_mark) # saving the max and avg with the corresponding student name.\n",
    "    \n",
    "        \n",
    "\n"
   ]
  },
  {
   "cell_type": "code",
   "execution_count": 4,
   "metadata": {},
   "outputs": [
    {
     "name": "stdout",
     "output_type": "stream",
     "text": [
      "Anshu\n",
      "-------------------\n",
      "Maxmium mark:  76\n",
      "Avgrage mark:  62.0\n",
      "-------------------\n",
      "Physics : B\n",
      "Chemistry : B\n",
      "Math : C\n",
      "-------------------\n",
      "\n",
      "Kudus\n",
      "-------------------\n",
      "Maxmium mark:  99\n",
      "Avgrage mark:  92.66666666666667\n",
      "-------------------\n",
      "Physics : A\n",
      "Chemistry : A\n",
      "Math : A\n",
      "-------------------\n",
      "\n",
      "Amit\n",
      "-------------------\n",
      "Maxmium mark:  90\n",
      "Avgrage mark:  89.0\n",
      "-------------------\n",
      "Physics : A\n",
      "Chemistry : A\n",
      "Math : A\n",
      "-------------------\n",
      "\n",
      "Vishal\n",
      "-------------------\n",
      "Maxmium mark:  88\n",
      "Avgrage mark:  66.33333333333333\n",
      "-------------------\n",
      "Physics : A\n",
      "Chemistry : B\n",
      "Math : C\n",
      "-------------------\n",
      "\n",
      "Abhishek\n",
      "-------------------\n",
      "Maxmium mark:  99\n",
      "Avgrage mark:  85.0\n",
      "-------------------\n",
      "Physics : A\n",
      "Chemistry : B\n",
      "Math : A\n",
      "-------------------\n",
      "\n"
     ]
    }
   ],
   "source": [
    "# displaying the details of student.\n",
    "for student,grade_list in dict_grade.items():\n",
    "\n",
    "    print(student)  # name \n",
    "    print(\"-------------------\")\n",
    "    print(\"Maxmium mark: \", dict_max_avg[student][0]) # Maximum Mark\n",
    "    print(\"Avgrage mark: \", dict_max_avg[student][1]) # Averange Mark\n",
    "\n",
    "    print(\"-------------------\")\n",
    "\n",
    "    for i in range(Num_course):\n",
    "        print(course_list[i],\":\",grade_list[i])  # Subject : Grade\n",
    "    print(\"-------------------\\n\")"
   ]
  },
  {
   "cell_type": "code",
   "execution_count": 12,
   "metadata": {},
   "outputs": [],
   "source": [
    "course_credit=[4,10,6]\n",
    "\n",
    "students_CPI={} # will store the student cpi in the dictionary.\n",
    "\n",
    "totall_credit=sum(course_credit) # sum of the credits.\n",
    "\n",
    "grade_Num={\"A\":10,\"B\":9,\"C\":8,\"F\":7} # grade point corresponding to the grade mark\n",
    "\n",
    "for student,grade_list in dict_grade.items():\n",
    "    cpi=0\n",
    "    for i in range(Num_course):\n",
    "\n",
    "        # computing the sum of \"grade-point*Course-Credit\".\n",
    "        cpi+= grade_Num[grade_list[i]]*course_credit[i] \n",
    "\n",
    "    cpi=cpi/totall_credit # Computing the CPI by dividing the summion by total credit.\n",
    "\n",
    "    students_CPI[student]=cpi # Appending the student CPI with the name of the student in the Dictionary.\n"
   ]
  },
  {
   "cell_type": "code",
   "execution_count": 13,
   "metadata": {},
   "outputs": [
    {
     "name": "stdout",
     "output_type": "stream",
     "text": [
      "{'Anshu': 8.7, 'Kudus': 10.0, 'Amit': 10.0, 'Vishal': 8.9, 'Abhishek': 9.5}\n"
     ]
    }
   ],
   "source": [
    "print(students_CPI)"
   ]
  },
  {
   "cell_type": "code",
   "execution_count": 8,
   "metadata": {},
   "outputs": [],
   "source": [
    "import json\n",
    "with open(\"student.json\",\"w\") as f:\n",
    "\n",
    "    # Adding the dictionary in the json File.\n",
    "    json.dump(students_CPI,f,indent=4)\n",
    "    "
   ]
  },
  {
   "cell_type": "code",
   "execution_count": 10,
   "metadata": {},
   "outputs": [],
   "source": [
    "with open(\"student.json\",\"r\") as f1:\n",
    "\n",
    "    # Extracting the data from json file.\n",
    "    new_dict=json.load(f1)\n",
    "    "
   ]
  },
  {
   "cell_type": "code",
   "execution_count": 11,
   "metadata": {},
   "outputs": [
    {
     "name": "stdout",
     "output_type": "stream",
     "text": [
      "{'Anshu': 8.7, 'Kudus': 10.0, 'Amit': 10.0, 'Vishal': 8.9, 'Abhishek': 9.5}\n"
     ]
    }
   ],
   "source": [
    "print(new_dict)"
   ]
  },
  {
   "cell_type": "code",
   "execution_count": null,
   "metadata": {},
   "outputs": [],
   "source": []
  }
 ],
 "metadata": {
  "kernelspec": {
   "display_name": "Python 3",
   "language": "python",
   "name": "python3"
  },
  "language_info": {
   "codemirror_mode": {
    "name": "ipython",
    "version": 3
   },
   "file_extension": ".py",
   "mimetype": "text/x-python",
   "name": "python",
   "nbconvert_exporter": "python",
   "pygments_lexer": "ipython3",
   "version": "3.9.2"
  }
 },
 "nbformat": 4,
 "nbformat_minor": 2
}
