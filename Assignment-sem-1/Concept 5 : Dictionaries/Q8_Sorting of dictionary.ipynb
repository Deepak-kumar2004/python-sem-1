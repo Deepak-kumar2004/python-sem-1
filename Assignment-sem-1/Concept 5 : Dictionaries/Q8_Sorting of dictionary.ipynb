{
 "cells": [
  {
   "cell_type": "markdown",
   "metadata": {},
   "source": [
    "***Create a dictionary of your marks in various subjects and then sort it by\n",
    "its values first in descending order, and then in or ascending order. Do\n",
    "not use any inbuilt sorting functions.***"
   ]
  },
  {
   "cell_type": "code",
   "execution_count": 2,
   "metadata": {},
   "outputs": [],
   "source": [
    "def dict_sort(dictionary,order=\"asc\"):\n",
    "    \n",
    "    \"\"\" We will convert the dictionary in the list, then check consecutive element one by one and swap them according.\n",
    "    In every step the biggest or smallest number will came out in the right hand side of the list.\n",
    "    So, we will decreasing the second loop by 1 each time it excute.\n",
    "    and lastly convert the list in the dictionary\"\"\"\n",
    "    \n",
    "    # Checking the inputs.\n",
    "    if isinstance(dictionary,dict) and order in [\"asc\",\"dsc\"]:\n",
    "        \n",
    "        # Checking the order to sort.\n",
    "        if order == \"asc\":\n",
    "            \n",
    "            a=list(dictionary.items()) # Converting the dictionary in the list.\n",
    "            l=len(a) \n",
    "\n",
    "            # Runing the loop in the range of lenght of the list created above.\n",
    "            for i in range(l):\n",
    "\n",
    "               # Running the loop for chacking the each element one by one.\n",
    "               for j in range(l-i-1):\n",
    "\n",
    "                  if a[j][1]>a[j+1][1]: # Checking the consecutive element.\n",
    "\n",
    "                     a[j],a[j+1]=a[j+1],a[j] # Swapping the element.\n",
    "\n",
    "            return dict(a) # Converting and returning the list.\n",
    "        \n",
    "\n",
    "        # It follow the same code of above with opposite checking condition.\n",
    "        else:\n",
    "            a=list(dictionary.items())\n",
    "            l=len(a)\n",
    "            for i in range(l):\n",
    "               for j in range(l-i-1):\n",
    "                  if a[j][1]<a[j+1][1]:\n",
    "                     a[j],a[j+1]=a[j+1],a[j]\n",
    "\n",
    "            return dict(a)\n",
    "    else:\n",
    "       return None\n",
    "\n",
    "            \n",
    "            \n",
    "            \n",
    "        \n"
   ]
  },
  {
   "cell_type": "code",
   "execution_count": 3,
   "metadata": {},
   "outputs": [
    {
     "data": {
      "text/plain": [
       "{'Coimputer Science': 96,\n",
       " 'Math': 95,\n",
       " 'Chemistry': 93,\n",
       " 'Physics': 89,\n",
       " 'English': 75}"
      ]
     },
     "execution_count": 3,
     "metadata": {},
     "output_type": "execute_result"
    }
   ],
   "source": [
    "dict_sort({\"Physics\":89,\"Chemistry\":93,\"Math\":95,\"Coimputer Science\":96,\"English\":75},\"dsc\")"
   ]
  },
  {
   "cell_type": "code",
   "execution_count": 4,
   "metadata": {},
   "outputs": [
    {
     "data": {
      "text/plain": [
       "{'English': 75,\n",
       " 'Physics': 89,\n",
       " 'Chemistry': 93,\n",
       " 'Math': 95,\n",
       " 'Coimputer Science': 96}"
      ]
     },
     "execution_count": 4,
     "metadata": {},
     "output_type": "execute_result"
    }
   ],
   "source": [
    "dict_sort({\"Physics\":89,\"Chemistry\":93,\"Math\":95,\"Coimputer Science\":96,\"English\":75})"
   ]
  },
  {
   "cell_type": "code",
   "execution_count": null,
   "metadata": {},
   "outputs": [],
   "source": []
  }
 ],
 "metadata": {
  "kernelspec": {
   "display_name": "Python 3",
   "language": "python",
   "name": "python3"
  },
  "language_info": {
   "codemirror_mode": {
    "name": "ipython",
    "version": 3
   },
   "file_extension": ".py",
   "mimetype": "text/x-python",
   "name": "python",
   "nbconvert_exporter": "python",
   "pygments_lexer": "ipython3",
   "version": "3.9.2"
  }
 },
 "nbformat": 4,
 "nbformat_minor": 2
}
