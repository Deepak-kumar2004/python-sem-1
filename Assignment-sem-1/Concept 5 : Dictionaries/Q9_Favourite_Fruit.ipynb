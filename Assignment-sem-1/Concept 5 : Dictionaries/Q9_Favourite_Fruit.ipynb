{
 "cells": [
  {
   "cell_type": "markdown",
   "metadata": {},
   "source": [
    "**Create a dictionary whose keys are the names of your family members\n",
    "and friends, and the values are the list of fruits they like to eat. Now if the\n",
    "user gives a fruit as input, the code should print the list of names who\n",
    "like this fruit. Write another code to print the list of people who do not\n",
    "like this fruit. Using this dictionary as input, write a code to make a\n",
    "consolidated list of all the fruit names present in the values of various\n",
    "keys. This list should not have any duplicate entries. Do not use the set()\n",
    "function.**"
   ]
  },
  {
   "cell_type": "code",
   "execution_count": 4,
   "metadata": {},
   "outputs": [
    {
     "name": "stdout",
     "output_type": "stream",
     "text": [
      "input:  Apple\n",
      "List of member who like the given Friut--- ['Deepak', 'Vishal', 'Papa']\n",
      "List of member who dislke the given Friut--- ['Mummy']\n"
     ]
    }
   ],
   "source": [
    "dict_Family={\"Deepak\":[\"Mango\",\"Apple\",\"Banana\"],\n",
    "             \"Vishal\":[\"Orange\",\"Grapes\",\"Apple\"],\n",
    "             \"Mummy\":[\"Mango\",\"Banana\",\"Anaar\"],\n",
    "             \"Papa\":[\"Apple\",\"Orange\",\"Papaya\"]}\n",
    "\n",
    "Friut=(input(\"Enter the Friut name---\"))\n",
    "print(\"input: \",Friut)\n",
    "\n",
    "Fruit_like=[]  # Will append the name of the family member in this list, who like the input fruit.\n",
    "\n",
    "Fruit_dislike=[]  # Will append the name of the family member in this list, who does not like the input fruit.\n",
    "\n",
    "for name,friut_list in dict_Family.items():\n",
    "\n",
    "    if Friut in friut_list: # if input fruit present in the favourite list of the member, then will append the name in like-List.\n",
    "        Fruit_like.append(name)\n",
    "\n",
    "    else:\n",
    "        Fruit_dislike.append(name) # appending name in the unlike-list because above condition fails.\n",
    "\n",
    "print(\"List of member who like the given Friut---\",Fruit_like)\n",
    "print(\"List of member who dislke the given Friut---\",Fruit_dislike)"
   ]
  },
  {
   "cell_type": "code",
   "execution_count": 5,
   "metadata": {},
   "outputs": [
    {
     "name": "stdout",
     "output_type": "stream",
     "text": [
      "['Mango', 'Apple', 'Banana', 'Orange', 'Grapes', 'Anaar', 'Papaya']\n"
     ]
    }
   ],
   "source": [
    "List_of_Fruit=[]  # Will store the distinct fruit.\n",
    "\n",
    "# Running the loop on the dictionary of family using \"vules()\" function to extract the list of fruit.\n",
    "for friut_list in dict_Family.values():\n",
    "\n",
    "    # Running the loop append the fruit one by one in the above created list.\n",
    "    for fruit in friut_list:\n",
    "\n",
    "        # Checking if the fruit alredy append in the list or not, if not then proceed to append the new fruit in the list.\n",
    "        if fruit not in List_of_Fruit:\n",
    "            List_of_Fruit.append(fruit)\n",
    "\n",
    "print(List_of_Fruit)\n"
   ]
  },
  {
   "cell_type": "code",
   "execution_count": null,
   "metadata": {},
   "outputs": [],
   "source": []
  },
  {
   "cell_type": "code",
   "execution_count": null,
   "metadata": {},
   "outputs": [],
   "source": []
  }
 ],
 "metadata": {
  "kernelspec": {
   "display_name": "Python 3",
   "language": "python",
   "name": "python3"
  },
  "language_info": {
   "codemirror_mode": {
    "name": "ipython",
    "version": 3
   },
   "file_extension": ".py",
   "mimetype": "text/x-python",
   "name": "python",
   "nbconvert_exporter": "python",
   "pygments_lexer": "ipython3",
   "version": "3.9.2"
  }
 },
 "nbformat": 4,
 "nbformat_minor": 2
}
