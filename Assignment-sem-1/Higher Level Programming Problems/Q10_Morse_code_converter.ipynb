{
 "cells": [
  {
   "cell_type": "markdown",
   "metadata": {},
   "source": [
    "#  Create a Morse code translator.\n",
    " \n"
   ]
  },
  {
   "cell_type": "code",
   "execution_count": 1,
   "metadata": {},
   "outputs": [],
   "source": [
    "# Dictionary mapping characters to Morse code\n",
    "MORSE_CODE_DICT = {'A': '.-', 'B': '-...', 'C': '-.-.', 'D': '-..', 'E': '.', 'F': '..-.', 'G': '--.', 'H': '....', 'I': '..', 'J': '.---', 'K': '-.-', 'L': '.-..', 'M': '--', 'N': '-.', 'O': '---', 'P': '.--.', 'Q': '--.-', 'R': '.-.', 'S': '...', 'T': '-', 'U': '..-', 'V': '...-', 'W': '.--', 'X': '-..-', 'Y': '-.--', 'Z': '--..',\n",
    "                  '1': '.----', '2': '..---', '3': '...--', '4': '....-', '5': '.....', '6': '-....', '7': '--...', '8': '---..', '9': '----.', '0': '-----', ', ': '--..--', '.': '.-.-.-', '?': '..--..', '/': '-..-.', '-': '-....-', '(': '-.--.', ')': '-.--.-', ' ': '/'}  # Including some punctuation and special characters\n",
    "\n",
    "# Function to convert text to Morse code\n",
    "def text_to_morse(text):\n",
    "    morse_code = ''\n",
    "    for char in text.upper():\n",
    "        if char in MORSE_CODE_DICT:\n",
    "            morse_code += MORSE_CODE_DICT[char] + ' '  # Add Morse code for the character with a space\n",
    "        else:\n",
    "            morse_code += ' '  # Add space if the character is not in the dictionary\n",
    "    return morse_code.strip()  # Remove trailing space\n",
    "\n",
    "# Function to convert Morse code to text\n",
    "def morse_to_text(morse_code):\n",
    "    morse_code = morse_code.split(' ')  # Split Morse code into individual codes using spaces\n",
    "    text = ''\n",
    "    for code in morse_code:\n",
    "        for key, value in MORSE_CODE_DICT.items():\n",
    "            if code == value:\n",
    "                text += key  # Add the corresponding character for the Morse code\n",
    "    return text\n",
    "\n"
   ]
  },
  {
   "cell_type": "code",
   "execution_count": 2,
   "metadata": {},
   "outputs": [
    {
     "data": {
      "text/plain": [
       "'-.. . . .--. .- -.-'"
      ]
     },
     "execution_count": 2,
     "metadata": {},
     "output_type": "execute_result"
    }
   ],
   "source": [
    "text_to_morse(\"Deepak\")"
   ]
  },
  {
   "cell_type": "code",
   "execution_count": 3,
   "metadata": {},
   "outputs": [
    {
     "data": {
      "text/plain": [
       "'DEEPAK'"
      ]
     },
     "execution_count": 3,
     "metadata": {},
     "output_type": "execute_result"
    }
   ],
   "source": [
    "morse_to_text('-.. . . .--. .- -.-')"
   ]
  },
  {
   "cell_type": "code",
   "execution_count": null,
   "metadata": {},
   "outputs": [],
   "source": []
  }
 ],
 "metadata": {
  "kernelspec": {
   "display_name": "Python 3",
   "language": "python",
   "name": "python3"
  },
  "language_info": {
   "codemirror_mode": {
    "name": "ipython",
    "version": 3
   },
   "file_extension": ".py",
   "mimetype": "text/x-python",
   "name": "python",
   "nbconvert_exporter": "python",
   "pygments_lexer": "ipython3",
   "version": "3.9.2"
  }
 },
 "nbformat": 4,
 "nbformat_minor": 2
}
