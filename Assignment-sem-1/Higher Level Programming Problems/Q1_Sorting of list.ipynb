{
 "cells": [
  {
   "cell_type": "markdown",
   "metadata": {},
   "source": [
    "# 1. Given a list of numbers, sort it in ascending order."
   ]
  },
  {
   "cell_type": "code",
   "execution_count": 1,
   "metadata": {},
   "outputs": [],
   "source": [
    "def list_sort(lst,rev=False):\n",
    "\n",
    "    # Checking if data typr of input.\n",
    "    if not isinstance(lst,list):\n",
    "        return False,None\n",
    "    \n",
    "    else:\n",
    "\n",
    "        # Checking the wheather, list is empty or not.\n",
    "        if len(lst)==0:\n",
    "            return False,None\n",
    "        \n",
    "        else:\n",
    "\n",
    "            # checking the condition for sorting.\n",
    "            if rev == False:\n",
    "                n=len(lst)\n",
    "\n",
    "                # itrating over length of list using \"for loop\"\n",
    "                for i in range(n):\n",
    "\n",
    "                    # itrating over length of list, but reducing the range by one each time after every complete itartion.\n",
    "                    # subrating by 1 addionally beacause, for swaping conditional of last element, it will become out of index.\n",
    "                    for j in range(n-i-1):   # using this to check each consecutive element one by one.\n",
    "\n",
    "                        # Checking the Consective element \n",
    "                        if lst[j]>lst[j+1]:\n",
    "                            lst[j],lst[j+1]=lst[j+1],lst[j]  # Swaping the consecutive element.\n",
    "\n",
    "                return True,lst\n",
    "\n",
    "            # Whole algorithm is same but the checking of consecutive element with opposite condition.\n",
    "            else:\n",
    "                n=len(lst)\n",
    "                for i in range(n):\n",
    "                    for j in range(n-i-1):\n",
    "                        if lst[j]<lst[j+1]:\n",
    "                            lst[j],lst[j+1]=lst[j+1],lst[j]\n",
    "                return True,lst\n",
    "\n"
   ]
  },
  {
   "cell_type": "code",
   "execution_count": 2,
   "metadata": {},
   "outputs": [
    {
     "data": {
      "text/plain": [
       "(True, [2, 3, 3, 3, 4, 4, 4, 5, 6, 6, 6, 7, 7, 9, 34, 86])"
      ]
     },
     "execution_count": 2,
     "metadata": {},
     "output_type": "execute_result"
    }
   ],
   "source": [
    "list_sort([9,6,4,7,3,6,86,4,34,5,3,2,4,6,7,3,])"
   ]
  },
  {
   "cell_type": "code",
   "execution_count": 3,
   "metadata": {},
   "outputs": [
    {
     "data": {
      "text/plain": [
       "(True, [86, 34, 9, 7, 7, 6, 6, 6, 5, 4, 4, 4, 3, 3, 3, 2])"
      ]
     },
     "execution_count": 3,
     "metadata": {},
     "output_type": "execute_result"
    }
   ],
   "source": [
    "list_sort([9,6,4,7,3,6,86,4,34,5,3,2,4,6,7,3,],rev=True)"
   ]
  },
  {
   "cell_type": "code",
   "execution_count": 4,
   "metadata": {},
   "outputs": [
    {
     "data": {
      "text/plain": [
       "(False, None)"
      ]
     },
     "execution_count": 4,
     "metadata": {},
     "output_type": "execute_result"
    }
   ],
   "source": [
    "list_sort([])"
   ]
  },
  {
   "cell_type": "code",
   "execution_count": null,
   "metadata": {},
   "outputs": [],
   "source": []
  }
 ],
 "metadata": {
  "kernelspec": {
   "display_name": "Python 3",
   "language": "python",
   "name": "python3"
  },
  "language_info": {
   "codemirror_mode": {
    "name": "ipython",
    "version": 3
   },
   "file_extension": ".py",
   "mimetype": "text/x-python",
   "name": "python",
   "nbconvert_exporter": "python",
   "pygments_lexer": "ipython3",
   "version": "3.9.2"
  }
 },
 "nbformat": 4,
 "nbformat_minor": 2
}
