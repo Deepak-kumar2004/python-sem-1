{
 "cells": [
  {
   "cell_type": "markdown",
   "metadata": {},
   "source": [
    "# 2. Given a list of numbers, find out the median and mode."
   ]
  },
  {
   "cell_type": "code",
   "execution_count": 7,
   "metadata": {},
   "outputs": [],
   "source": [
    "def mode_median(lst):\n",
    "\n",
    "    # Checking the data type of input.\n",
    "    if not isinstance(lst,list):\n",
    "        return False,None\n",
    "    \n",
    "    else:\n",
    "        n=len(lst)\n",
    "\n",
    "        # Checking the frequency of list.\n",
    "        if n==0:\n",
    "            return False,None\n",
    "        else:\n",
    "\n",
    "            # Computing the Median using the formula for odd or even\n",
    "            if n%2==0:\n",
    "                median = (lst[int(n/2)] + lst[int(n/2)+1])/2\n",
    "            else:\n",
    "                median = (lst[int(n/2)+1])\n",
    "            \n",
    "            # Finding occurence of each number and store them in the dictionary.\n",
    "            freq_dict={}\n",
    "            for num in lst:\n",
    "\n",
    "                # number is already in the dictionary then increasing its value by 1 else, assigning 1 to number.\n",
    "                if num in freq_dict:\n",
    "                    freq_dict[num] += 1\n",
    "                else:\n",
    "                    freq_dict[num]=1  \n",
    "\n",
    "\n",
    "            # assigning the first number, to be the mode and compare it with other.       \n",
    "            mode = lst[0]\n",
    "            mode_freq = freq_dict[lst[0]]\n",
    "            \n",
    "            # Itrating over dictionary to compare and find Max number's occurence.\n",
    "            for num,freq in freq_dict.items():\n",
    "                if mode_freq < freq:\n",
    "                    mode = num\n",
    "                    mode_freq = freq\n",
    "            \n",
    "            return True,{\"Mode\":mode,\"Median\":median}\n",
    "\n"
   ]
  },
  {
   "cell_type": "code",
   "execution_count": 8,
   "metadata": {},
   "outputs": [
    {
     "data": {
      "text/plain": [
       "(True, {'Mode': 2, 'Median': 2.0})"
      ]
     },
     "execution_count": 8,
     "metadata": {},
     "output_type": "execute_result"
    }
   ],
   "source": [
    "mode_median([2,3,4,2,23,34,4,2,2,2,2,2,3,3,3,3])"
   ]
  },
  {
   "cell_type": "code",
   "execution_count": null,
   "metadata": {},
   "outputs": [],
   "source": []
  }
 ],
 "metadata": {
  "kernelspec": {
   "display_name": "Python 3",
   "language": "python",
   "name": "python3"
  },
  "language_info": {
   "codemirror_mode": {
    "name": "ipython",
    "version": 3
   },
   "file_extension": ".py",
   "mimetype": "text/x-python",
   "name": "python",
   "nbconvert_exporter": "python",
   "pygments_lexer": "ipython3",
   "version": "3.9.2"
  }
 },
 "nbformat": 4,
 "nbformat_minor": 2
}
