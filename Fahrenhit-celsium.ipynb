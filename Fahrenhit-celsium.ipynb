{
 "cells": [
  {
   "cell_type": "markdown",
   "metadata": {},
   "source": [
    "Given a temperature in Fahrenheit, convert it to Celsius. If the temperature is below 10 degree celcius output cold, between 10 and 25 output pleasant, between 25 and 35 output warm, and above 35 output hot.\n",
    "\n",
    "We will use the formula to cinvert Fahrenhit to Celsius\n",
    "      C = [F - 32]x(9/5)  , where C -Temp. in Degree Celsius\n",
    "                                  F -Temp. in Degree Fahrenhit "
   ]
  },
  {
   "cell_type": "code",
   "execution_count": null,
   "metadata": {},
   "outputs": [],
   "source": [
    "f=float(input(\"Enter the Temp. in Fahrenhit\")) # Taking the input for Temp in Fahrenhit.\n",
    "c= (f-32)*(9/5)                                # Computing the temp. in Celsius through the formula  \n",
    "if c<10 :                                      # Checking if the Temp. is less than 10 degree celsius, if yes than printing it's Cold\n",
    "    print(\"Cold\")\n",
    "elif 10<c<25 :                                 # Checking if the Temp. is greater than 10 degree celsius and less than 25, if yes than printing it's Pleasant.\n",
    "    print(\"Pleasant\")\n",
    "elif 25<c<35 :                                 # Checking if the Temp. is greater than 25 degree celsius and less than 35, if yes than printing it's Warm.\n",
    "    print(\"Warm\")\n",
    "else :                                         # now else temp. is above 35 degree celsius and it will print Hot \n",
    "    print('Hot')"
   ]
  }
 ],
 "metadata": {
  "kernelspec": {
   "display_name": "Python 3",
   "language": "python",
   "name": "python3"
  },
  "language_info": {
   "name": "python",
   "version": "3.9.2"
  },
  "orig_nbformat": 4
 },
 "nbformat": 4,
 "nbformat_minor": 2
}
