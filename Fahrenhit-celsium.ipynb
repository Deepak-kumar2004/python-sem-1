{
 "cells": [
  {
   "cell_type": "markdown",
   "metadata": {},
   "source": [
    "Given a temperature in Fahrenheit, convert it to Celsius. If the temperature is below 10 degree celcius output cold, between 10 and 25 output pleasant, between 25 and 35 output warm, and above 35 output hot."
   ]
  },
  {
   "cell_type": "code",
   "execution_count": null,
   "metadata": {},
   "outputs": [],
   "source": [
    "f=float(input(\"Enter the Temp. in Fahrenhit\"))\n",
    "c= (f-32)*(9/5)\n",
    "if c<10 :\n",
    "    print(\"Cold\")\n",
    "elif 10<c<25 :\n",
    "    print(\"Pleasant\")\n",
    "elif 25<c<35 :\n",
    "    print(\"Warm\")\n",
    "else :\n",
    "    print('Hot')"
   ]
  }
 ],
 "metadata": {
  "kernelspec": {
   "display_name": "Python 3",
   "language": "python",
   "name": "python3"
  },
  "language_info": {
   "name": "python",
   "version": "3.9.2"
  },
  "orig_nbformat": 4
 },
 "nbformat": 4,
 "nbformat_minor": 2
}
