{
 "cells": [
  {
   "cell_type": "markdown",
   "metadata": {},
   "source": [
    "Program for finding the greatest integer number among three different number by taking input from user."
   ]
  },
  {
   "cell_type": "code",
   "execution_count": null,
   "metadata": {},
   "outputs": [],
   "source": [
    "a=int(input(\"Enter the first number\"))\n",
    "b=int(input(\"Enter the Second number\"))\n",
    "c=int(input(\"Enter the Third number\"))\n",
    "print(a,b,c)\n",
    "if a>b and a>c : # Checking First int with other two\n",
    "    print(\"a is the greatest integer\",a)\n",
    "elif b>c :  \n",
    "    print('b is the greatest',b)\n",
    "else:\n",
    "    print(\"c is the greatest\", c)"
   ]
  },
  {
   "cell_type": "markdown",
   "metadata": {},
   "source": [
    "Same program without using and operator, using the concept of nested conditional"
   ]
  },
  {
   "cell_type": "code",
   "execution_count": 4,
   "metadata": {},
   "outputs": [
    {
     "name": "stdout",
     "output_type": "stream",
     "text": [
      "23 1 56\n",
      "c is the greatest 56\n"
     ]
    }
   ],
   "source": [
    "a=int(input(\"Enter the first number\"))\n",
    "b=int(input(\"Enter the Second number\"))\n",
    "c=int(input(\"Enter the Third number\"))\n",
    "print(a,b,c)\n",
    "if a>b :\n",
    "    if a>c :\n",
    "        print('a is the greatest',a)\n",
    "    else :\n",
    "        print('c is the greatest',c)\n",
    "else:\n",
    "    if b>c :\n",
    "        print(\"b is the greatest\",b)\n",
    "    else:\n",
    "        print(\"c is the greatest\",c)"
   ]
  },
  {
   "cell_type": "code",
   "execution_count": null,
   "metadata": {},
   "outputs": [],
   "source": []
  }
 ],
 "metadata": {
  "kernelspec": {
   "display_name": "Python 3",
   "language": "python",
   "name": "python3"
  },
  "language_info": {
   "codemirror_mode": {
    "name": "ipython",
    "version": 3
   },
   "file_extension": ".py",
   "mimetype": "text/x-python",
   "name": "python",
   "nbconvert_exporter": "python",
   "pygments_lexer": "ipython3",
   "version": "3.9.2"
  },
  "orig_nbformat": 4
 },
 "nbformat": 4,
 "nbformat_minor": 2
}
