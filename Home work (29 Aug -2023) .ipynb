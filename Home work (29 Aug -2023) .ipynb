{
 "cells": [
  {
   "cell_type": "markdown",
   "metadata": {},
   "source": [
    "The program is to compute A Divide by B. where, B could be zero,\n",
    "So we know that if denominator is zero then it is not defined so it will print not defined if B=0"
   ]
  },
  {
   "cell_type": "code",
   "execution_count": 3,
   "metadata": {},
   "outputs": [
    {
     "name": "stdout",
     "output_type": "stream",
     "text": [
      "not defined\n"
     ]
    }
   ],
   "source": [
    "a=int(input('Enter the first number'))\n",
    "b=int(input('Enter the Second number'))\n",
    "if b==0 :     # Checking if B=0, then it will print - not defined\n",
    "    print(\"not defined\")\n",
    "else:         # computing A/B and Displaying the Result \n",
    "    print(a/b)"
   ]
  },
  {
   "cell_type": "markdown",
   "metadata": {},
   "source": [
    "Given a point in 2D space, find the quadrant in which it lies. \n",
    "we will find the quadrant using the concept that, the sign of the coordinate will tell as in which quadrant it is.\n",
    "if  (+,+) - First quadrant\n",
    "    (-,+) - Second quadrant \n",
    "    (-,-) - Third quadrant \n",
    "    (-,+) - Fourth quadrant  "
   ]
  },
  {
   "cell_type": "code",
   "execution_count": 4,
   "metadata": {},
   "outputs": [
    {
     "name": "stdout",
     "output_type": "stream",
     "text": [
      "The point is in third quadrant\n"
     ]
    }
   ],
   "source": [
    "x=float(input(\"Enter the X coordinate\"))  # taking the coordinate from the user \n",
    "y=float(input(\"Enter the Y coordinate\"))\n",
    "if x==0 and y==0 :                        # Checking if both coordinate are zero then the point is on the origin\n",
    "    print(\"the point is on the Origin\")\n",
    "elif x==0 :                               # Checking if X coordinate is zero then the point is on the Y-axis \n",
    "    print(\"the point on the Y-axis\")\n",
    "elif y==0 :                               # Checking if Y coordinate is zero then the point is on the X-axis \n",
    "    print(\"the point on the X-axis\")\n",
    "else :\n",
    "    if x>0 :                              # Checking if X is positive\n",
    "        if y>0 :                          # checking whether Y is positive or not if yes then displaying - 1st quadrant\n",
    "            print(\"The point is in first quadrant\")\n",
    "        else :                            # else Y is -ve So displaying - fourth Quadrant\n",
    "            print(\"The point is in fourth quadrant\")\n",
    "    else :\n",
    "        if y>0 :                          # X > 0 - false, it means X is -ve now we are checking if y is +ve then will display - Second quadrant \n",
    "            print(\"The point is in Second quadrant\")\n",
    "        else :                            # X is -ve and Y is also -ve. So, Displaying - third quadrant \n",
    "            print(\"The point is in third quadrant\")"
   ]
  },
  {
   "cell_type": "markdown",
   "metadata": {},
   "source": [
    "Given two points in 2D space, find the slope and y-intercept of the line joining them. Consider all cases\n",
    "\n",
    "we find the slope using the formula M = (y2-y1)/(x2-x1)\n",
    "and will display the slope is not defined if (x2-x1) = 0 and slope is zero if (y2-y1) =0\n",
    "will calculate the y intercept using the formula C = Y1-(M*x1)"
   ]
  },
  {
   "cell_type": "code",
   "execution_count": 5,
   "metadata": {},
   "outputs": [
    {
     "name": "stdout",
     "output_type": "stream",
     "text": [
      "The slope of the line - 1.6666666666666667\n",
      "the value of Y-intercept- -3.0\n"
     ]
    }
   ],
   "source": [
    "x1=float(input(\"Enter the value of X1\"))        # taking the value of x and y cordinate \n",
    "y1=float(input('Enter the value of Y1'))\n",
    "x2=float(input('Enter the value of X2'))\n",
    "y2=float(input('Enter the value of Y2'))\n",
    "m=0                                             # creating variable m to store the value of slope \n",
    "\n",
    "if (x2-x1)==0 :                                 # checking if (X2-X1) is equall to zero then will print - not defined \n",
    "    print(\"slope is not defined as line is parallel to Y-axis\")\n",
    "elif (y2-y1)==0 :                               # checking if (Y2-Y1) is equall to zero then will print - slope is zero parallel to X - axis \n",
    "    print(\"Slope is zero, line is parallel to the X-axis\")\n",
    "else :                                          # esle will compute the value of slope \n",
    "    global m                                    # using global keyword to make change in m that is created outside the variable \n",
    "    m=(y2-y1)/(x2-x1)                           # Computing the slope using the formula mention above in the Markdown and Displaying thr value of slope \n",
    "    print(\"The slope of the line -\",m)\n",
    "\n",
    "c= y1-(m*x1)                                    # Calculating the value of Y intercept \n",
    "\n",
    "if c==0 :                                       # if value of y-intercept is equal to zero, it means the line passing through the origin  \n",
    "    print(\"line passes through the origin\")\n",
    "else:\n",
    "    print('the value of Y-intercept-',c)        # else displaying the calculate value of Y intercept."
   ]
  },
  {
   "cell_type": "markdown",
   "metadata": {},
   "source": [
    "Given a temperature in Fahrenheit, convert it to Celsius. If the temperature is below 10 degree celcius output cold, between 10 and 25 output pleasant, between 25 and 35 output warm, and above 35 output hot.\n",
    "\n",
    "We will use the formula to cinvert Fahrenhit to Celsius\n",
    "      C = [F - 32]x(9/5)  , where C -Temp. in Degree Celsius\n",
    "                                  F -Temp. in Degree Fahrenhit "
   ]
  },
  {
   "cell_type": "code",
   "execution_count": 6,
   "metadata": {},
   "outputs": [
    {
     "name": "stdout",
     "output_type": "stream",
     "text": [
      "Hot\n"
     ]
    }
   ],
   "source": [
    "f=float(input(\"Enter the Temp. in Fahrenhit\")) # Taking the input for Temp in Fahrenhit.\n",
    "c= (f-32)*(9/5)                                # Computing the temp. in Celsius through the formula  \n",
    "if c<=10 :                                      # Checking if the Temp. is less than 10 degree celsius, if yes than printing it's Cold\n",
    "    print(\"Cold\")\n",
    "elif 10<c<=25 :                                 # Checking if the Temp. is greater than 10 degree celsius and less than 25, if yes than printing it's Pleasant.\n",
    "    print(\"Pleasant\")\n",
    "elif 25<c<=35 :                                 # Checking if the Temp. is greater than 25 degree celsius and less than 35, if yes than printing it's Warm.\n",
    "    print(\"Warm\")\n",
    "else :                                         # now else temp. is above 35 degree celsius and it will print Hot \n",
    "    print('Hot')"
   ]
  },
  {
   "cell_type": "markdown",
   "metadata": {},
   "source": [
    "Given a quadratic equation with coefficients a, b and c, find the two solutions (may be real or complex). You should not take the square root of a negative number in your code.\n",
    "\n",
    "We are going to find the solution of quadratic equation using the quadratic formula \n",
    "firstly will calculate for discrimanant, \n",
    "If D > 0 , then roots are real and unequal\n",
    "   D = 0 , then roots are real but equal\n",
    "   D < 0 , then there are imagernery roots \n",
    "\n",
    "   then will calculate the value of roots using the quadratic formula."
   ]
  },
  {
   "cell_type": "code",
   "execution_count": 7,
   "metadata": {},
   "outputs": [
    {
     "name": "stdout",
     "output_type": "stream",
     "text": [
      "3.0 X2 + 5.0 X + 7.0\n",
      "roots are imagenery\n",
      "(-7.499999999999998+11.521718621802911j)\n",
      "(-7.500000000000002-11.521718621802911j)\n"
     ]
    }
   ],
   "source": [
    "a=float(input(\"Enter the cofficient of X2\")) # Taking the input from user for cofficient of x2\n",
    "b=float(input(\"Enter the cofficient of X\"))  # Taking the input from user for cofficient of x\n",
    "c=float(input(\"Enter the value of C\"))       # Taking the input from user for Constant \n",
    "print(a,\"X2 +\",b,\"X +\",c)                    # Displaying the Quadratic equation \n",
    "\n",
    "d= b**2 - (4*a*c)                            # Calculating the Discriminant for checking the nature of roots\n",
    "if d>0 :                                     # Checking if D > 0 \n",
    "    print(\"roots are real and unqual\")       \n",
    "    r1= ((-b +(d**(1/2)))/2*a)               # Calculating the the value of root1 using the quadratic formula \n",
    "    r2= ((-b -(d**(1/2)))/2*a)               # Calculating the the value of root2 using the quadratic formula \n",
    "    print(r1)\n",
    "    print(r2)   \n",
    "\n",
    "elif d==0 :                                  # Checking if D = 0\n",
    "    print(\"Roots are real and equall\")       \n",
    "    r1= ((-b +(d**(1/2)))/2*a)               # Calculating the the value of root1 using the quadratic formula \n",
    "    r2= ((-b -(d**(1/2)))/2*a)               # Calculating the the value of root2 using the quadratic formula \n",
    "    print(r1)\n",
    "    print(r2)\n",
    "else:                                        # else there is D < 0\n",
    "    print(\"roots are imagenery\")            \n",
    "    r1= ((-b +(d**(1/2)))/2*a)               # Calculating the the value of root1 using the quadratic formula \n",
    "    r2= ((-b -(d**(1/2)))/2*a)               # Calculating the the value of root2 using the quadratic formula \n",
    "    print(r1)\n",
    "    print(r2)"
   ]
  },
  {
   "cell_type": "markdown",
   "metadata": {},
   "source": [
    "Given three points, find out whether they lie on the same straight line or not.\n",
    "Now will use the concept of area of triangle when three point are given.\n",
    "If the point are non colinear then there is some area made by triangle joining these three point.\n",
    "else if these point are colinear then there is no area because there is no triangle"
   ]
  },
  {
   "cell_type": "code",
   "execution_count": 8,
   "metadata": {},
   "outputs": [
    {
     "name": "stdout",
     "output_type": "stream",
     "text": [
      "45.0 23.0\n",
      "89.0 56.0\n",
      "45.0 98.0\n",
      "point are non colinear\n"
     ]
    }
   ],
   "source": [
    "x1=float(input('Enter the coordinate of X1'))  # Taking the the three pair of coordinate from the user \n",
    "y1=float(input('Enter the coordinate of Y2'))\n",
    "x2=float(input('Enter the coordinate of X2'))\n",
    "y2=float(input('Enter the coordinate of Y2'))\n",
    "x3=float(input('Enter the coordinate of X3'))\n",
    "y3=float(input('Enter the coordinate of Y3'))\n",
    "\n",
    "print(x1, y1)                                  # Displaying the three pair of coordinate \n",
    "print(x2, y2)\n",
    "print(x3, y3)\n",
    "\n",
    "A= (0.5)*(x1*(y2-y3) + x2*(y3-y1) + x3*(y1-y3)) # Calculating the area of triangle \n",
    "if A==0 :                                       # checking the area \n",
    "    print(\"point are colinear\")\n",
    "\n",
    "else :\n",
    "    print(\"point are non colinear\")"
   ]
  },
  {
   "cell_type": "code",
   "execution_count": null,
   "metadata": {},
   "outputs": [],
   "source": []
  }
 ],
 "metadata": {
  "kernelspec": {
   "display_name": "Python 3",
   "language": "python",
   "name": "python3"
  },
  "language_info": {
   "codemirror_mode": {
    "name": "ipython",
    "version": 3
   },
   "file_extension": ".py",
   "mimetype": "text/x-python",
   "name": "python",
   "nbconvert_exporter": "python",
   "pygments_lexer": "ipython3",
   "version": "3.9.2"
  },
  "orig_nbformat": 4
 },
 "nbformat": 4,
 "nbformat_minor": 2
}
