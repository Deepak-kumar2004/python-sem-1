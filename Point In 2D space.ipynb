{
 "cells": [
  {
   "cell_type": "markdown",
   "metadata": {},
   "source": [
    "Given a point in 2D space, find the quadrant in which it lies. \n",
    "we will find the quadrant using the concept that, the sign of the coordinate will tell as in which quadrant it is.\n",
    "if  (+,+) - First quadrant\n",
    "    (-,+) - Second quadrant \n",
    "    (-,-) - Third quadrant \n",
    "    (-,+) - Fourth quadrant  "
   ]
  },
  {
   "cell_type": "code",
   "execution_count": 2,
   "metadata": {},
   "outputs": [
    {
     "name": "stdout",
     "output_type": "stream",
     "text": [
      "The point is in Second quadrant\n"
     ]
    }
   ],
   "source": [
    "x=float(input(\"Enter the X coordinate\"))  # taking the coordinate from the user \n",
    "y=float(input(\"Enter the Y coordinate\"))\n",
    "if x==0 and y==0 :                        # Checking if both coordinate are zero then the point is on the origin\n",
    "    print(\"the point is on the Origin\")\n",
    "elif x==0 :                               # Checking if X coordinate is zero then the point is on the Y-axis \n",
    "    print(\"the point on the Y-axis\")\n",
    "elif y==0 :                               # Checking if Y coordinate is zero then the point is on the X-axis \n",
    "    print(\"the point on the X-axis\")\n",
    "else :\n",
    "    if x>0 :                              # Checking if X is positive\n",
    "        if y>0 :                          # checking whether Y is positive or not if yes then displaying - 1st quadrant\n",
    "            print(\"The point is in first quadrant\")\n",
    "        else :                            # else Y is -ve So displaying - fourth Quadrant\n",
    "            print(\"The point is in fourth quadrant\")\n",
    "    else :\n",
    "        if y>0 :                          # X > 0 - false, it means X is -ve now we are checking if y is +ve then will display - Second quadrant \n",
    "            print(\"The point is in Second quadrant\")\n",
    "        else :                            # X is -ve and Y is also -ve. So, Displaying - third quadrant \n",
    "            print(\"The point is in third quadrant\")"
   ]
  },
  {
   "cell_type": "code",
   "execution_count": null,
   "metadata": {},
   "outputs": [],
   "source": []
  }
 ],
 "metadata": {
  "kernelspec": {
   "display_name": "Python 3",
   "language": "python",
   "name": "python3"
  },
  "language_info": {
   "codemirror_mode": {
    "name": "ipython",
    "version": 3
   },
   "file_extension": ".py",
   "mimetype": "text/x-python",
   "name": "python",
   "nbconvert_exporter": "python",
   "pygments_lexer": "ipython3",
   "version": "3.9.2"
  },
  "orig_nbformat": 4
 },
 "nbformat": 4,
 "nbformat_minor": 2
}
