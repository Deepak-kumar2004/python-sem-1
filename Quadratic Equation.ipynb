{
 "cells": [
  {
   "cell_type": "markdown",
   "metadata": {},
   "source": [
    "Given a quadratic equation with coefficients a, b and c, find the two solutions (may be real or complex). You should not take the square root of a negative number in your code.\n",
    "\n",
    "We are going to find the solution of quadratic equation using the quadratic formula \n",
    "firstly will calculate for discrimanant, \n",
    "If D > 0 , then roots are real and unequal\n",
    "   D = 0 , then roots are real but equal\n",
    "   D < 0 , then there are imagernery roots \n",
    "\n",
    "   then will calculate the value of roots using the quadratic formula."
   ]
  },
  {
   "cell_type": "code",
   "execution_count": 3,
   "metadata": {},
   "outputs": [
    {
     "name": "stdout",
     "output_type": "stream",
     "text": [
      "3.0 X2 + 4.0 X + 2.0\n",
      "roots are imagenery\n",
      "(-6+4.242640687119286j)\n",
      "(-6-4.242640687119286j)\n"
     ]
    }
   ],
   "source": [
    "a=float(input(\"Enter the cofficient of X2\")) # Taking the input from user for cofficient of x2\n",
    "b=float(input(\"Enter the cofficient of X\"))  # Taking the input from user for cofficient of x\n",
    "c=float(input(\"Enter the value of C\"))       # Taking the input from user for Constant \n",
    "print(a,\"X2 +\",b,\"X +\",c)                    # Displaying the Quadratic equation \n",
    "\n",
    "d= b**2 - (4*a*c)                            # Calculating the Discriminant for checking the nature of roots\n",
    "if d>0 :                                     # Checking if D > 0 \n",
    "    print(\"roots are real and unqual\")       \n",
    "    r1= ((-b +(d**(1/2)))/2*a)               # Calculating the the value of root1 using the quadratic formula \n",
    "    r2= ((-b -(d**(1/2)))/2*a)               # Calculating the the value of root2 using the quadratic formula \n",
    "    print(r1)\n",
    "    print(r2)   \n",
    "\n",
    "elif d==0 :                                  # Checking if D = 0\n",
    "    print(\"Roots are real and equall\")       \n",
    "    r1= ((-b +(d**(1/2)))/2*a)               # Calculating the the value of root1 using the quadratic formula \n",
    "    r2= ((-b -(d**(1/2)))/2*a)               # Calculating the the value of root2 using the quadratic formula \n",
    "    print(r1)\n",
    "    print(r2)\n",
    "else:                                        # else there is D < 0\n",
    "    print(\"roots are imagenery\")            \n",
    "    r1= ((-b +(d**(1/2)))/2*a)               # Calculating the the value of root1 using the quadratic formula \n",
    "    r2= ((-b -(d**(1/2)))/2*a)               # Calculating the the value of root2 using the quadratic formula \n",
    "    print(r1)\n",
    "    print(r2)"
   ]
  },
  {
   "cell_type": "code",
   "execution_count": null,
   "metadata": {},
   "outputs": [],
   "source": []
  }
 ],
 "metadata": {
  "kernelspec": {
   "display_name": "Python 3",
   "language": "python",
   "name": "python3"
  },
  "language_info": {
   "codemirror_mode": {
    "name": "ipython",
    "version": 3
   },
   "file_extension": ".py",
   "mimetype": "text/x-python",
   "name": "python",
   "nbconvert_exporter": "python",
   "pygments_lexer": "ipython3",
   "version": "3.9.2"
  },
  "orig_nbformat": 4
 },
 "nbformat": 4,
 "nbformat_minor": 2
}
