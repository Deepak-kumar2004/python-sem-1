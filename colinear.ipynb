{
 "cells": [
  {
   "cell_type": "markdown",
   "metadata": {},
   "source": [
    "Given three points, find out whether they lie on the same straight line or not.\n",
    "Now will use the concept of slope if two line have same slope it means line are Parallel and point are colinear.\n",
    "will form the two line using given three point\n",
    "formula for calulating the slope ( y2-y1 )/( x2-x1 )"
   ]
  },
  {
   "cell_type": "code",
   "execution_count": 1,
   "metadata": {},
   "outputs": [
    {
     "name": "stdout",
     "output_type": "stream",
     "text": [
      "2.0 -3.0\n",
      "4.0 -5.0\n",
      "7.0 -3.0\n",
      " Point are not colinear\n"
     ]
    }
   ],
   "source": [
    "x1=float(input('Enter the coordinate of X1'))  # Taking the the three pair of coordinate from the user \n",
    "y1=float(input('Enter the coordinate of Y2'))\n",
    "x2=float(input('Enter the coordinate of X2'))\n",
    "y2=float(input('Enter the coordinate of Y2'))\n",
    "x3=float(input('Enter the coordinate of X3'))\n",
    "y3=float(input('Enter the coordinate of Y3'))\n",
    "\n",
    "print(x1, y1)  # Displaying the three pair of coordinate \n",
    "print(x2, y2)\n",
    "print(x3, y3)\n",
    "\n",
    "\n",
    "m1 = (y2-y1)/(x2-x1) # calulating the slope for the line 1 \n",
    "m2 = (y3-y2)/(x3-x2) # calulating the slope for the line 2\n",
    "\n",
    "if m1==m2 :          # Comparing the slope of lines if will find same, then display \"Point are colinear\" \n",
    "    print(\" Point are colinear\")\n",
    "\n",
    "else :               # slope are not same it means lines - point on the lines are not colinear\n",
    "    print(\" Point are not colinear\")"
   ]
  },
  {
   "cell_type": "code",
   "execution_count": null,
   "metadata": {},
   "outputs": [],
   "source": []
  }
 ],
 "metadata": {
  "kernelspec": {
   "display_name": "Python 3",
   "language": "python",
   "name": "python3"
  },
  "language_info": {
   "codemirror_mode": {
    "name": "ipython",
    "version": 3
   },
   "file_extension": ".py",
   "mimetype": "text/x-python",
   "name": "python",
   "nbconvert_exporter": "python",
   "pygments_lexer": "ipython3",
   "version": "3.9.2"
  },
  "orig_nbformat": 4
 },
 "nbformat": 4,
 "nbformat_minor": 2
}
