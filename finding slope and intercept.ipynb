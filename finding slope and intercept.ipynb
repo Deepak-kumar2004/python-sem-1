{
 "cells": [
  {
   "cell_type": "markdown",
   "metadata": {},
   "source": [
    "Given two points in 2D space, find the slope and y-intercept of the line joining them. Consider all cases\n",
    "\n"
   ]
  },
  {
   "cell_type": "code",
   "execution_count": 4,
   "metadata": {},
   "outputs": [
    {
     "name": "stdout",
     "output_type": "stream",
     "text": [
      "The slope of the line - 0.08823529411764706\n",
      "the value of Y-intercept- 31.176470588235293\n"
     ]
    }
   ],
   "source": [
    "x1=float(input('Enter the value of X1'))\n",
    "y1=float(input('Enter the value of Y1'))\n",
    "x2=float(input('Enter the value of X2'))\n",
    "y2=float(input('Enter the value of Y2'))\n",
    "m=0\n",
    "c=0\n",
    "if (x2-x1)==0 :\n",
    "    print(\"slope is not defined as line is parallel to Y-axis\")\n",
    "elif (y2-y1)==0 :\n",
    "    print(\"Slope is zero, line is parallel to the X-axis\")\n",
    "else :\n",
    "    global m \n",
    "    m=(y2-y1)/(x2-x1)\n",
    "    print(\"The slope of the line -\",m)\n",
    "c= y1-(m*x2) \n",
    "if c==0 :\n",
    "    print(\"line passes through the origin\")\n",
    "else:\n",
    "    print('the value of Y-intercept-',c)\n"
   ]
  },
  {
   "cell_type": "code",
   "execution_count": null,
   "metadata": {},
   "outputs": [],
   "source": []
  },
  {
   "cell_type": "code",
   "execution_count": null,
   "metadata": {},
   "outputs": [],
   "source": []
  }
 ],
 "metadata": {
  "kernelspec": {
   "display_name": "Python 3",
   "language": "python",
   "name": "python3"
  },
  "language_info": {
   "codemirror_mode": {
    "name": "ipython",
    "version": 3
   },
   "file_extension": ".py",
   "mimetype": "text/x-python",
   "name": "python",
   "nbconvert_exporter": "python",
   "pygments_lexer": "ipython3",
   "version": "3.9.2"
  },
  "orig_nbformat": 4
 },
 "nbformat": 4,
 "nbformat_minor": 2
}
