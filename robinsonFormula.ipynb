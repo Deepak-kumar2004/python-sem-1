{
 "cells": [
  {
   "cell_type": "markdown",
   "metadata": {},
   "source": [
    "The program is to compute the ideal weight for human acording to their respective height using the Robinsion formula : For male   W = 52 + { 1.9 X (height above 60 inches) }\n",
    "                    For female W = 49 + { 1.6 X (height above 60 inches) }"
   ]
  },
  {
   "cell_type": "code",
   "execution_count": 2,
   "metadata": {},
   "outputs": [
    {
     "name": "stdout",
     "output_type": "stream",
     "text": [
      "Your height is 65.0\n",
      "the weight 61.5\n"
     ]
    }
   ],
   "source": [
    "\n",
    "a=int(input('please select 1 for male , 0 for female ')) # Askink to user, to select the gender\n",
    "h=float(input('enter the hight in inches')) # Asking to user, to enter their height in inches \n",
    "print('Your height is',h) # Dispyaing the height entered by the user\n",
    "if a==1 :\n",
    "    w= 52 + (1.9*(h-60)) # computing the weight of male using the robinsion formula \n",
    "    print(\"the weight\",w) # Displaying the weight \n",
    "elif a==0 :\n",
    "    w= 49 + (1.6*(h-60)) # computing weight of female using robinsion formula for female\n",
    "    print('the weight',w) # Displaying the weight\n",
    "else:\n",
    "    print('invaliad input') # Displaying \"invalid input\" if the user enter other than \"0\" or \"1\""
   ]
  },
  {
   "cell_type": "code",
   "execution_count": null,
   "metadata": {},
   "outputs": [],
   "source": []
  }
 ],
 "metadata": {
  "kernelspec": {
   "display_name": "Python 3",
   "language": "python",
   "name": "python3"
  },
  "language_info": {
   "codemirror_mode": {
    "name": "ipython",
    "version": 3
   },
   "file_extension": ".py",
   "mimetype": "text/x-python",
   "name": "python",
   "nbconvert_exporter": "python",
   "pygments_lexer": "ipython3",
   "version": "3.9.2"
  },
  "orig_nbformat": 4
 },
 "nbformat": 4,
 "nbformat_minor": 2
}
